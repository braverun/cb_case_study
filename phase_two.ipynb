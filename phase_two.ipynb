{
 "cells": [
  {
   "cell_type": "code",
   "execution_count": null,
   "metadata": {},
   "outputs": [],
   "source": [
    "phase2 = pd.read_csv(r\"/Users/braverun/codingbootcamp/cb_case_study/second_phase_target_labeled.csv\")\n",
    "phase2.head()"
   ]
  }
 ],
 "metadata": {
  "language_info": {
   "name": "python"
  }
 },
 "nbformat": 4,
 "nbformat_minor": 2
}
