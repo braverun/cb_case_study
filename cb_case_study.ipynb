{
 "cells": [
  {
   "cell_type": "code",
   "execution_count": 2,
   "metadata": {},
   "outputs": [],
   "source": [
    "import sqlite3\n",
    "import pandas as pd"
   ]
  },
  {
   "cell_type": "code",
   "execution_count": 3,
   "metadata": {},
   "outputs": [
    {
     "name": "stdout",
     "output_type": "stream",
     "text": [
      "[('balances',), ('client_products',), ('client',), ('inv_campaign_eval',)]\n"
     ]
    }
   ],
   "source": [
    "sqliteConnection = sqlite3.connect('data.db')\n",
    "sql_query = \"\"\"SELECT name FROM sqlite_master  \n",
    "  WHERE type='table';\"\"\"\n",
    "cursor = sqliteConnection.cursor()\n",
    "cursor.execute(sql_query)\n",
    "print(cursor.fetchall())"
   ]
  },
  {
   "cell_type": "code",
   "execution_count": 4,
   "metadata": {},
   "outputs": [],
   "source": [
    "balances_query = \"\"\"SELECT * FROM balances\"\"\"\n",
    "balances_df = pd.read_sql_query(balances_query, sqliteConnection)\n",
    "client_product_query = \"\"\"SELECT * FROM client_products\"\"\"\n",
    "client_product_df = pd.read_sql_query(client_product_query, sqliteConnection)\n",
    "client_query = \"\"\"SELECT * FROM client\"\"\"\n",
    "client_df = pd.read_sql_query(client_query, sqliteConnection)\n",
    "inv_campaign_eval_query = \"\"\"SELECT * FROM inv_campaign_eval\"\"\"\n",
    "inv_campaign_eval_df = pd.read_sql_query(inv_campaign_eval_query, sqliteConnection)"
   ]
  },
  {
   "cell_type": "code",
   "execution_count": 6,
   "metadata": {},
   "outputs": [],
   "source": [
    "balances_df.currency.unique()\n",
    "balances_df.currency.isnull().values.any()\n",
    "global balances_df"
   ]
  }
 ],
 "metadata": {
  "kernelspec": {
   "display_name": "Python 3",
   "language": "python",
   "name": "python3"
  },
  "language_info": {
   "codemirror_mode": {
    "name": "ipython",
    "version": 3
   },
   "file_extension": ".py",
   "mimetype": "text/x-python",
   "name": "python",
   "nbconvert_exporter": "python",
   "pygments_lexer": "ipython3",
   "version": "3.11.6"
  }
 },
 "nbformat": 4,
 "nbformat_minor": 2
}
