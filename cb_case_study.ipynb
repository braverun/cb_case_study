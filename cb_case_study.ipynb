{
 "cells": [
  {
   "cell_type": "code",
   "execution_count": 1,
   "metadata": {},
   "outputs": [],
   "source": [
    "import sqlite3\n",
    "import pandas as pd\n",
    "import numpy as np\n",
    "import seaborn as sns\n",
    "import matplotlib.pyplot as plt\n"
   ]
  },
  {
   "cell_type": "code",
   "execution_count": 2,
   "metadata": {},
   "outputs": [
    {
     "name": "stdout",
     "output_type": "stream",
     "text": [
      "[('balances',), ('client_products',), ('client',), ('inv_campaign_eval',)]\n"
     ]
    }
   ],
   "source": [
    " # Making a connection between sqlite3 \n",
    "    # database and Python Program\n",
    "sqliteConnection = sqlite3.connect('data.db')\n",
    "sql_query = \"\"\"SELECT name FROM sqlite_master  \n",
    "  WHERE type='table';\"\"\"\n",
    "cursor = sqliteConnection.cursor()\n",
    "cursor.execute(sql_query)\n",
    "print(cursor.fetchall())"
   ]
  },
  {
   "cell_type": "code",
   "execution_count": 3,
   "metadata": {},
   "outputs": [],
   "source": [
    "balances_query = \"\"\"SELECT * FROM balances\"\"\"\n",
    "balances_df = pd.read_sql_query(balances_query, sqliteConnection)\n",
    "\n",
    "client_products_query = \"\"\"SELECT * FROM client_products\"\"\"\n",
    "client_products_df = pd.read_sql_query(client_products_query, sqliteConnection)\n",
    "\n",
    "client_query = \"\"\"SELECT * FROM client\"\"\"\n",
    "client_df = pd.read_sql_query(client_query, sqliteConnection)\n",
    "\n",
    "inv_camp_query = \"SELECT * FROM inv_campaign_eval\" \n",
    "inv_camp_df = pd.read_sql_query(inv_camp_query, sqliteConnection)\n"
   ]
  },
  {
   "cell_type": "code",
   "execution_count": 4,
   "metadata": {},
   "outputs": [],
   "source": [
    "balances_df.currency.unique()\n",
    "balances_df.currency.isnull().values.any()\n",
    "global balances_df"
   ]
  },
  {
   "cell_type": "code",
   "execution_count": 5,
   "metadata": {},
   "outputs": [
    {
     "data": {
      "text/plain": [
       "False"
      ]
     },
     "execution_count": 5,
     "metadata": {},
     "output_type": "execute_result"
    }
   ],
   "source": [
    "client_products_df.head()\n",
    "client_products_df[['client_id', 'has_deposits', 'loan', 'has_insurance', 'has_mortgage']].isnull().values.any()"
   ]
  },
  {
   "cell_type": "code",
   "execution_count": 6,
   "metadata": {},
   "outputs": [
    {
     "data": {
      "text/html": [
       "<div>\n",
       "<style scoped>\n",
       "    .dataframe tbody tr th:only-of-type {\n",
       "        vertical-align: middle;\n",
       "    }\n",
       "\n",
       "    .dataframe tbody tr th {\n",
       "        vertical-align: top;\n",
       "    }\n",
       "\n",
       "    .dataframe thead th {\n",
       "        text-align: right;\n",
       "    }\n",
       "</style>\n",
       "<table border=\"1\" class=\"dataframe\">\n",
       "  <thead>\n",
       "    <tr style=\"text-align: right;\">\n",
       "      <th></th>\n",
       "      <th>client_id</th>\n",
       "      <th>poutcome</th>\n",
       "    </tr>\n",
       "  </thead>\n",
       "  <tbody>\n",
       "    <tr>\n",
       "      <th>0</th>\n",
       "      <td>249789938</td>\n",
       "      <td>success</td>\n",
       "    </tr>\n",
       "    <tr>\n",
       "      <th>1</th>\n",
       "      <td>1504633819</td>\n",
       "      <td>failure</td>\n",
       "    </tr>\n",
       "    <tr>\n",
       "      <th>2</th>\n",
       "      <td>1952195738</td>\n",
       "      <td>success</td>\n",
       "    </tr>\n",
       "    <tr>\n",
       "      <th>3</th>\n",
       "      <td>989726384</td>\n",
       "      <td>success</td>\n",
       "    </tr>\n",
       "    <tr>\n",
       "      <th>4</th>\n",
       "      <td>1971878545</td>\n",
       "      <td>failure</td>\n",
       "    </tr>\n",
       "  </tbody>\n",
       "</table>\n",
       "</div>"
      ],
      "text/plain": [
       "    client_id poutcome\n",
       "0   249789938  success\n",
       "1  1504633819  failure\n",
       "2  1952195738  success\n",
       "3   989726384  success\n",
       "4  1971878545  failure"
      ]
     },
     "execution_count": 6,
     "metadata": {},
     "output_type": "execute_result"
    }
   ],
   "source": [
    "inv_camp_df.head()"
   ]
  },
  {
   "cell_type": "code",
   "execution_count": 7,
   "metadata": {},
   "outputs": [
    {
     "data": {
      "text/plain": [
       "False"
      ]
     },
     "execution_count": 7,
     "metadata": {},
     "output_type": "execute_result"
    }
   ],
   "source": [
    "inv_camp_df[['client_id', 'poutcome']].isnull().values.any()"
   ]
  },
  {
   "cell_type": "code",
   "execution_count": 8,
   "metadata": {},
   "outputs": [
    {
     "name": "stdout",
     "output_type": "stream",
     "text": [
      "        client_id   age            job   marital  education gender\n",
      "0       249789938  38.0       services   married  secondary      M\n",
      "1      1222646323  46.0       services  divorced    unknown      M\n",
      "2       451375919  33.0         admin.    single  secondary      F\n",
      "3       338972671  44.0  self-employed   married  secondary      F\n",
      "4      1472834688  36.0    blue-collar   married    primary      M\n",
      "...           ...   ...            ...       ...        ...    ...\n",
      "11157   543198889  40.0    blue-collar    single    unknown      M\n",
      "11158   458558558  41.0      housemaid  divorced    primary      F\n",
      "11159  1426334329  59.0     technician   married    primary      F\n",
      "11160   831035343  42.0     management   married   tertiary      M\n",
      "11161   705801685  36.0    blue-collar    single  secondary      F\n",
      "\n",
      "[11162 rows x 6 columns]\n",
      "        client_id   age   marital  education gender\n",
      "0       249789938  38.0   married  secondary      M\n",
      "1      1222646323  46.0  divorced    unknown      M\n",
      "2       451375919  33.0    single  secondary      F\n",
      "3       338972671  44.0   married  secondary      F\n",
      "4      1472834688  36.0   married    primary      M\n",
      "...           ...   ...       ...        ...    ...\n",
      "11157   543198889  40.0    single    unknown      M\n",
      "11158   458558558  41.0  divorced    primary      F\n",
      "11159  1426334329  59.0   married    primary      F\n",
      "11160   831035343  42.0   married   tertiary      M\n",
      "11161   705801685  36.0    single  secondary      F\n",
      "\n",
      "[11162 rows x 5 columns]\n"
     ]
    },
    {
     "data": {
      "text/plain": [
       "client_id    0\n",
       "age          0\n",
       "marital      0\n",
       "education    0\n",
       "gender       0\n",
       "dtype: int64"
      ]
     },
     "execution_count": 8,
     "metadata": {},
     "output_type": "execute_result"
    }
   ],
   "source": [
    "client_df['age'] = client_df['age'].fillna(client_df['age'].median())\n",
    "print(client_df)\n",
    "client_df.isnull().sum()\n",
    "\n",
    "new_client_df = client_df.drop('job', axis=1)\n",
    "print(new_client_df)\n",
    "new_client_df.isnull().sum()"
   ]
  },
  {
   "cell_type": "code",
   "execution_count": 9,
   "metadata": {},
   "outputs": [],
   "source": [
    "client_products_df = client_products_df.replace(['n'], 'no')\n",
    "client_products_df = client_products_df.replace(['y'], 'yes')"
   ]
  },
  {
   "cell_type": "code",
   "execution_count": 10,
   "metadata": {},
   "outputs": [
    {
     "name": "stdout",
     "output_type": "stream",
     "text": [
      "        client_id  age   marital  education gender\n",
      "0       249789938   38   married  secondary      M\n",
      "1      1222646323   46  divorced    unknown      M\n",
      "2       451375919   33    single  secondary      F\n",
      "3       338972671   44   married  secondary      F\n",
      "4      1472834688   36   married    primary      M\n",
      "...           ...  ...       ...        ...    ...\n",
      "11157   543198889   40    single    unknown      M\n",
      "11158   458558558   41  divorced    primary      F\n",
      "11159  1426334329   59   married    primary      F\n",
      "11160   831035343   42   married   tertiary      M\n",
      "11161   705801685   36    single  secondary      F\n",
      "\n",
      "[11162 rows x 5 columns]\n"
     ]
    }
   ],
   "source": [
    "new_client_df['age'] = new_client_df['age'].astype(int)\n",
    "print(new_client_df)"
   ]
  },
  {
   "cell_type": "code",
   "execution_count": 11,
   "metadata": {},
   "outputs": [
    {
     "name": "stdout",
     "output_type": "stream",
     "text": [
      "                              date      balance  client_id currency\n",
      "0       2023-06-06 16:21:15.291346  2680.467773  249789938      CZK\n",
      "1       2023-05-23 16:21:15.291346  2654.055419  249789938      CZK\n",
      "2       2023-05-09 16:21:15.291346  2620.835872  249789938      CZK\n",
      "3       2023-04-25 16:21:15.291346  2720.315925  249789938      CZK\n",
      "4       2023-04-11 16:21:15.291346  2687.601982  249789938      CZK\n",
      "...                            ...          ...        ...      ...\n",
      "290207  2022-08-16 16:22:46.440217   145.454161  705801685      CZK\n",
      "290208  2022-08-02 16:22:46.440217    -5.497494  705801685      CZK\n",
      "290209  2022-07-19 16:22:46.440217   -45.891607  705801685      CZK\n",
      "290210  2022-07-05 16:22:46.440217    19.473946  705801685      CZK\n",
      "290211  2022-06-21 16:22:46.440217   163.032053  705801685      CZK\n",
      "\n",
      "[290212 rows x 4 columns]\n"
     ]
    }
   ],
   "source": [
    "df_balance_new = balances_df.copy()\n",
    "df_balance_new.loc[df_balance_new['balance'] == 'USD', 'currency':] *= 23\n",
    "df_balance_new.loc[df_balance_new['currency'] == 'USD', 'currency'] = \"CZK\"\n",
    "df_balance_new.loc[df_balance_new['balance'] == 'EUR', 'currency':] *= 25\n",
    "df_balance_new.loc[df_balance_new['currency'] == 'EUR', 'currency'] = \"CZK\"\n",
    "print(df_balance_new)"
   ]
  },
  {
   "cell_type": "code",
   "execution_count": 12,
   "metadata": {},
   "outputs": [
    {
     "name": "stdout",
     "output_type": "stream",
     "text": [
      "                              date      balance  client_id currency\n",
      "0       2023-06-06 16:21:15.291346  2680.467773  249789938      CZK\n",
      "1       2023-05-23 16:21:15.291346  2654.055419  249789938      CZK\n",
      "2       2023-05-09 16:21:15.291346  2620.835872  249789938      CZK\n",
      "3       2023-04-25 16:21:15.291346  2720.315925  249789938      CZK\n",
      "4       2023-04-11 16:21:15.291346  2687.601982  249789938      CZK\n",
      "...                            ...          ...        ...      ...\n",
      "290188  2023-05-09 16:22:46.440217    40.666162  705801685      CZK\n",
      "290189  2023-04-25 16:22:46.440217     8.617271  705801685      CZK\n",
      "290190  2023-04-11 16:22:46.440217    84.358039  705801685      CZK\n",
      "290191  2023-03-28 16:22:46.440217   -16.975446  705801685      CZK\n",
      "290192  2023-03-14 16:22:46.440217    16.844223  705801685      CZK\n",
      "\n",
      "[78134 rows x 4 columns]\n"
     ]
    }
   ],
   "source": [
    "filtered_df = df_balance_new[(df_balance_new['date'] >= '2023-03-01') & (df_balance_new['date'] <= '2023-06-30')]\n",
    "print(filtered_df)\n"
   ]
  },
  {
   "cell_type": "code",
   "execution_count": 13,
   "metadata": {},
   "outputs": [
    {
     "name": "stdout",
     "output_type": "stream",
     "text": [
      "        client_id  average_balance\n",
      "0       100070076       214.655340\n",
      "1       100141910      2533.575687\n",
      "2       100207570       -10.465497\n",
      "3       100488560       366.843373\n",
      "4       100605013       409.905114\n",
      "...           ...              ...\n",
      "11157  1999463182      1241.009897\n",
      "11158  1999499145       -17.706274\n",
      "11159  1999715381       703.327991\n",
      "11160  1999945413      5035.928297\n",
      "11161  1999956516       238.364484\n",
      "\n",
      "[11162 rows x 2 columns]\n"
     ]
    }
   ],
   "source": [
    "sum_balances = filtered_df.groupby('client_id')['balance'].sum()\n",
    "\n",
    "# Divide each sum by 7 and create a new DataFrame\n",
    "average_balances_df = pd.DataFrame({'client_id': sum_balances.index, 'average_balance': sum_balances.values / 7})\n",
    "\n",
    "# Print the result\n",
    "print(average_balances_df)"
   ]
  },
  {
   "cell_type": "code",
   "execution_count": 14,
   "metadata": {},
   "outputs": [
    {
     "name": "stdout",
     "output_type": "stream",
     "text": [
      "       client_id poutcome  average_balance has_deposits loan has_insurance  \\\n",
      "0      249789938  success      2673.410334          yes   no            no   \n",
      "1     1504633819  failure      5426.688121           no  yes            no   \n",
      "2     1952195738  success      2896.273313          yes  yes            no   \n",
      "3      989726384  success      3115.820938          yes   no            no   \n",
      "4     1971878545  failure       492.085398          yes   no            no   \n",
      "...          ...      ...              ...          ...  ...           ...   \n",
      "2294  1270855655  failure      3346.954717          yes   no           yes   \n",
      "2295   471724023  success      4616.418247          yes   no            no   \n",
      "2296   620088171  failure       904.070704          yes   no           yes   \n",
      "2297  1518319265  success        84.907674          yes   no            no   \n",
      "2298   705801685  success        15.163881          yes   no            no   \n",
      "\n",
      "     has_mortgage  age   marital  education gender  \n",
      "0              no   38   married  secondary      M  \n",
      "1             yes   38   married   tertiary      M  \n",
      "2              no   34   married  secondary      M  \n",
      "3              no   62   married  secondary      F  \n",
      "4              no   36    single   tertiary      M  \n",
      "...           ...  ...       ...        ...    ...  \n",
      "2294          yes   58  divorced  secondary      F  \n",
      "2295           no   72   married    primary      M  \n",
      "2296          yes   34   married   tertiary      F  \n",
      "2297           no   39   married    unknown      F  \n",
      "2298          yes   36    single  secondary      F  \n",
      "\n",
      "[2299 rows x 11 columns]\n"
     ]
    }
   ],
   "source": [
    "contacted_customers = pd.merge(pd.merge(pd.merge(inv_camp_df, average_balances_df, on='client_id', how='inner'), client_products_df, on='client_id', how='inner'), new_client_df, on='client_id', how='inner')\n",
    "print(contacted_customers)"
   ]
  },
  {
   "cell_type": "code",
   "execution_count": 15,
   "metadata": {},
   "outputs": [
    {
     "data": {
      "text/html": [
       "<div>\n",
       "<style scoped>\n",
       "    .dataframe tbody tr th:only-of-type {\n",
       "        vertical-align: middle;\n",
       "    }\n",
       "\n",
       "    .dataframe tbody tr th {\n",
       "        vertical-align: top;\n",
       "    }\n",
       "\n",
       "    .dataframe thead th {\n",
       "        text-align: right;\n",
       "    }\n",
       "</style>\n",
       "<table border=\"1\" class=\"dataframe\">\n",
       "  <thead>\n",
       "    <tr style=\"text-align: right;\">\n",
       "      <th></th>\n",
       "      <th>client_id</th>\n",
       "      <th>poutcome</th>\n",
       "      <th>average_balance</th>\n",
       "      <th>has_deposits</th>\n",
       "      <th>loan</th>\n",
       "      <th>has_insurance</th>\n",
       "      <th>has_mortgage</th>\n",
       "      <th>age</th>\n",
       "      <th>marital</th>\n",
       "      <th>education</th>\n",
       "      <th>gender</th>\n",
       "    </tr>\n",
       "  </thead>\n",
       "  <tbody>\n",
       "    <tr>\n",
       "      <th>0</th>\n",
       "      <td>249789938</td>\n",
       "      <td>1</td>\n",
       "      <td>2673.410334</td>\n",
       "      <td>1</td>\n",
       "      <td>0</td>\n",
       "      <td>0</td>\n",
       "      <td>0</td>\n",
       "      <td>38</td>\n",
       "      <td>1</td>\n",
       "      <td>secondary</td>\n",
       "      <td>M</td>\n",
       "    </tr>\n",
       "    <tr>\n",
       "      <th>1</th>\n",
       "      <td>1504633819</td>\n",
       "      <td>0</td>\n",
       "      <td>5426.688121</td>\n",
       "      <td>0</td>\n",
       "      <td>1</td>\n",
       "      <td>0</td>\n",
       "      <td>1</td>\n",
       "      <td>38</td>\n",
       "      <td>1</td>\n",
       "      <td>tertiary</td>\n",
       "      <td>M</td>\n",
       "    </tr>\n",
       "    <tr>\n",
       "      <th>2</th>\n",
       "      <td>1952195738</td>\n",
       "      <td>1</td>\n",
       "      <td>2896.273313</td>\n",
       "      <td>1</td>\n",
       "      <td>1</td>\n",
       "      <td>0</td>\n",
       "      <td>0</td>\n",
       "      <td>34</td>\n",
       "      <td>1</td>\n",
       "      <td>secondary</td>\n",
       "      <td>M</td>\n",
       "    </tr>\n",
       "    <tr>\n",
       "      <th>3</th>\n",
       "      <td>989726384</td>\n",
       "      <td>1</td>\n",
       "      <td>3115.820938</td>\n",
       "      <td>1</td>\n",
       "      <td>0</td>\n",
       "      <td>0</td>\n",
       "      <td>0</td>\n",
       "      <td>62</td>\n",
       "      <td>1</td>\n",
       "      <td>secondary</td>\n",
       "      <td>F</td>\n",
       "    </tr>\n",
       "    <tr>\n",
       "      <th>4</th>\n",
       "      <td>1971878545</td>\n",
       "      <td>0</td>\n",
       "      <td>492.085398</td>\n",
       "      <td>1</td>\n",
       "      <td>0</td>\n",
       "      <td>0</td>\n",
       "      <td>0</td>\n",
       "      <td>36</td>\n",
       "      <td>0</td>\n",
       "      <td>tertiary</td>\n",
       "      <td>M</td>\n",
       "    </tr>\n",
       "    <tr>\n",
       "      <th>...</th>\n",
       "      <td>...</td>\n",
       "      <td>...</td>\n",
       "      <td>...</td>\n",
       "      <td>...</td>\n",
       "      <td>...</td>\n",
       "      <td>...</td>\n",
       "      <td>...</td>\n",
       "      <td>...</td>\n",
       "      <td>...</td>\n",
       "      <td>...</td>\n",
       "      <td>...</td>\n",
       "    </tr>\n",
       "    <tr>\n",
       "      <th>2294</th>\n",
       "      <td>1270855655</td>\n",
       "      <td>0</td>\n",
       "      <td>3346.954717</td>\n",
       "      <td>1</td>\n",
       "      <td>0</td>\n",
       "      <td>1</td>\n",
       "      <td>1</td>\n",
       "      <td>58</td>\n",
       "      <td>0</td>\n",
       "      <td>secondary</td>\n",
       "      <td>F</td>\n",
       "    </tr>\n",
       "    <tr>\n",
       "      <th>2295</th>\n",
       "      <td>471724023</td>\n",
       "      <td>1</td>\n",
       "      <td>4616.418247</td>\n",
       "      <td>1</td>\n",
       "      <td>0</td>\n",
       "      <td>0</td>\n",
       "      <td>0</td>\n",
       "      <td>72</td>\n",
       "      <td>1</td>\n",
       "      <td>primary</td>\n",
       "      <td>M</td>\n",
       "    </tr>\n",
       "    <tr>\n",
       "      <th>2296</th>\n",
       "      <td>620088171</td>\n",
       "      <td>0</td>\n",
       "      <td>904.070704</td>\n",
       "      <td>1</td>\n",
       "      <td>0</td>\n",
       "      <td>1</td>\n",
       "      <td>1</td>\n",
       "      <td>34</td>\n",
       "      <td>1</td>\n",
       "      <td>tertiary</td>\n",
       "      <td>F</td>\n",
       "    </tr>\n",
       "    <tr>\n",
       "      <th>2297</th>\n",
       "      <td>1518319265</td>\n",
       "      <td>1</td>\n",
       "      <td>84.907674</td>\n",
       "      <td>1</td>\n",
       "      <td>0</td>\n",
       "      <td>0</td>\n",
       "      <td>0</td>\n",
       "      <td>39</td>\n",
       "      <td>1</td>\n",
       "      <td>unknown</td>\n",
       "      <td>F</td>\n",
       "    </tr>\n",
       "    <tr>\n",
       "      <th>2298</th>\n",
       "      <td>705801685</td>\n",
       "      <td>1</td>\n",
       "      <td>15.163881</td>\n",
       "      <td>1</td>\n",
       "      <td>0</td>\n",
       "      <td>0</td>\n",
       "      <td>1</td>\n",
       "      <td>36</td>\n",
       "      <td>0</td>\n",
       "      <td>secondary</td>\n",
       "      <td>F</td>\n",
       "    </tr>\n",
       "  </tbody>\n",
       "</table>\n",
       "<p>2299 rows × 11 columns</p>\n",
       "</div>"
      ],
      "text/plain": [
       "       client_id poutcome  average_balance has_deposits loan has_insurance  \\\n",
       "0      249789938        1      2673.410334            1    0             0   \n",
       "1     1504633819        0      5426.688121            0    1             0   \n",
       "2     1952195738        1      2896.273313            1    1             0   \n",
       "3      989726384        1      3115.820938            1    0             0   \n",
       "4     1971878545        0       492.085398            1    0             0   \n",
       "...          ...      ...              ...          ...  ...           ...   \n",
       "2294  1270855655        0      3346.954717            1    0             1   \n",
       "2295   471724023        1      4616.418247            1    0             0   \n",
       "2296   620088171        0       904.070704            1    0             1   \n",
       "2297  1518319265        1        84.907674            1    0             0   \n",
       "2298   705801685        1        15.163881            1    0             0   \n",
       "\n",
       "     has_mortgage  age marital  education gender  \n",
       "0               0   38       1  secondary      M  \n",
       "1               1   38       1   tertiary      M  \n",
       "2               0   34       1  secondary      M  \n",
       "3               0   62       1  secondary      F  \n",
       "4               0   36       0   tertiary      M  \n",
       "...           ...  ...     ...        ...    ...  \n",
       "2294            1   58       0  secondary      F  \n",
       "2295            0   72       1    primary      M  \n",
       "2296            1   34       1   tertiary      F  \n",
       "2297            0   39       1    unknown      F  \n",
       "2298            1   36       0  secondary      F  \n",
       "\n",
       "[2299 rows x 11 columns]"
      ]
     },
     "execution_count": 15,
     "metadata": {},
     "output_type": "execute_result"
    }
   ],
   "source": [
    "contacted_customers = contacted_customers.replace(['no'], '0')\n",
    "contacted_customers = contacted_customers.replace(['yes'], '1')\n",
    "\n",
    "contacted_customers = contacted_customers.replace(['success'], '1')\n",
    "contacted_customers = contacted_customers.replace(['failure'], '0')\n",
    "\n",
    "contacted_customers = contacted_customers.replace(['married'], '1')\n",
    "contacted_customers = contacted_customers.replace(['divorced'], '0')\n",
    "contacted_customers = contacted_customers.replace(['single'], '0')\n",
    "\n",
    "contacted_customers"
   ]
  },
  {
   "cell_type": "code",
   "execution_count": 16,
   "metadata": {},
   "outputs": [
    {
     "data": {
      "text/plain": [
       "<seaborn.axisgrid.PairGrid at 0x10abe54d0>"
      ]
     },
     "execution_count": 16,
     "metadata": {},
     "output_type": "execute_result"
    },
    {
     "data": {
      "image/png": "[encoded data removed]",
      "text/plain": [
       "<Figure size 750x750 with 12 Axes>"
      ]
     },
     "metadata": {},
     "output_type": "display_data"
    }
   ],
   "source": [
    "sns.pairplot(contacted_customers)"
   ]
  },
  {
   "cell_type": "code",
   "execution_count": 17,
   "metadata": {},
   "outputs": [
    {
     "data": {
      "text/plain": [
       "client_id            int64\n",
       "poutcome            object\n",
       "average_balance    float64\n",
       "has_deposits        object\n",
       "loan                object\n",
       "has_insurance       object\n",
       "has_mortgage        object\n",
       "age                  int64\n",
       "marital             object\n",
       "education           object\n",
       "gender              object\n",
       "dtype: object"
      ]
     },
     "execution_count": 17,
     "metadata": {},
     "output_type": "execute_result"
    }
   ],
   "source": [
    "contacted_customers.dtypes"
   ]
  },
  {
   "cell_type": "code",
   "execution_count": 18,
   "metadata": {},
   "outputs": [],
   "source": [
    "binned_ages = []\n",
    "for age in contacted_customers.age:\n",
    "    if age < 35: binned_ages.append(0)\n",
    "    else: binned_ages.append(1)\n",
    "\n"
   ]
  },
  {
   "cell_type": "code",
   "execution_count": 19,
   "metadata": {},
   "outputs": [],
   "source": [
    "contacted_customers['binned_ages'] = binned_ages"
   ]
  },
  {
   "cell_type": "code",
   "execution_count": 20,
   "metadata": {},
   "outputs": [
    {
     "data": {
      "text/html": [
       "<div>\n",
       "<style scoped>\n",
       "    .dataframe tbody tr th:only-of-type {\n",
       "        vertical-align: middle;\n",
       "    }\n",
       "\n",
       "    .dataframe tbody tr th {\n",
       "        vertical-align: top;\n",
       "    }\n",
       "\n",
       "    .dataframe thead th {\n",
       "        text-align: right;\n",
       "    }\n",
       "</style>\n",
       "<table border=\"1\" class=\"dataframe\">\n",
       "  <thead>\n",
       "    <tr style=\"text-align: right;\">\n",
       "      <th></th>\n",
       "      <th>client_id</th>\n",
       "      <th>poutcome</th>\n",
       "      <th>average_balance</th>\n",
       "      <th>has_deposits</th>\n",
       "      <th>loan</th>\n",
       "      <th>has_insurance</th>\n",
       "      <th>has_mortgage</th>\n",
       "      <th>age</th>\n",
       "      <th>marital</th>\n",
       "      <th>education</th>\n",
       "      <th>gender</th>\n",
       "      <th>binned_ages</th>\n",
       "    </tr>\n",
       "  </thead>\n",
       "  <tbody>\n",
       "    <tr>\n",
       "      <th>0</th>\n",
       "      <td>249789938</td>\n",
       "      <td>1</td>\n",
       "      <td>2673.410334</td>\n",
       "      <td>1</td>\n",
       "      <td>0</td>\n",
       "      <td>0</td>\n",
       "      <td>0</td>\n",
       "      <td>38</td>\n",
       "      <td>1</td>\n",
       "      <td>secondary</td>\n",
       "      <td>M</td>\n",
       "      <td>1</td>\n",
       "    </tr>\n",
       "    <tr>\n",
       "      <th>1</th>\n",
       "      <td>1504633819</td>\n",
       "      <td>0</td>\n",
       "      <td>5426.688121</td>\n",
       "      <td>0</td>\n",
       "      <td>1</td>\n",
       "      <td>0</td>\n",
       "      <td>1</td>\n",
       "      <td>38</td>\n",
       "      <td>1</td>\n",
       "      <td>tertiary</td>\n",
       "      <td>M</td>\n",
       "      <td>1</td>\n",
       "    </tr>\n",
       "    <tr>\n",
       "      <th>2</th>\n",
       "      <td>1952195738</td>\n",
       "      <td>1</td>\n",
       "      <td>2896.273313</td>\n",
       "      <td>1</td>\n",
       "      <td>1</td>\n",
       "      <td>0</td>\n",
       "      <td>0</td>\n",
       "      <td>34</td>\n",
       "      <td>1</td>\n",
       "      <td>secondary</td>\n",
       "      <td>M</td>\n",
       "      <td>0</td>\n",
       "    </tr>\n",
       "    <tr>\n",
       "      <th>3</th>\n",
       "      <td>989726384</td>\n",
       "      <td>1</td>\n",
       "      <td>3115.820938</td>\n",
       "      <td>1</td>\n",
       "      <td>0</td>\n",
       "      <td>0</td>\n",
       "      <td>0</td>\n",
       "      <td>62</td>\n",
       "      <td>1</td>\n",
       "      <td>secondary</td>\n",
       "      <td>F</td>\n",
       "      <td>1</td>\n",
       "    </tr>\n",
       "    <tr>\n",
       "      <th>4</th>\n",
       "      <td>1971878545</td>\n",
       "      <td>0</td>\n",
       "      <td>492.085398</td>\n",
       "      <td>1</td>\n",
       "      <td>0</td>\n",
       "      <td>0</td>\n",
       "      <td>0</td>\n",
       "      <td>36</td>\n",
       "      <td>0</td>\n",
       "      <td>tertiary</td>\n",
       "      <td>M</td>\n",
       "      <td>1</td>\n",
       "    </tr>\n",
       "  </tbody>\n",
       "</table>\n",
       "</div>"
      ],
      "text/plain": [
       "    client_id poutcome  average_balance has_deposits loan has_insurance  \\\n",
       "0   249789938        1      2673.410334            1    0             0   \n",
       "1  1504633819        0      5426.688121            0    1             0   \n",
       "2  1952195738        1      2896.273313            1    1             0   \n",
       "3   989726384        1      3115.820938            1    0             0   \n",
       "4  1971878545        0       492.085398            1    0             0   \n",
       "\n",
       "  has_mortgage  age marital  education gender  binned_ages  \n",
       "0            0   38       1  secondary      M            1  \n",
       "1            1   38       1   tertiary      M            1  \n",
       "2            0   34       1  secondary      M            0  \n",
       "3            0   62       1  secondary      F            1  \n",
       "4            0   36       0   tertiary      M            1  "
      ]
     },
     "execution_count": 20,
     "metadata": {},
     "output_type": "execute_result"
    }
   ],
   "source": [
    "contacted_customers.head()"
   ]
  },
  {
   "cell_type": "code",
   "execution_count": 21,
   "metadata": {},
   "outputs": [
    {
     "name": "stdout",
     "output_type": "stream",
     "text": [
      "['secondary' 'tertiary' 'unknown' 'primary']\n"
     ]
    }
   ],
   "source": [
    "print(contacted_customers.education.unique())"
   ]
  },
  {
   "cell_type": "code",
   "execution_count": 22,
   "metadata": {},
   "outputs": [],
   "source": [
    "binned_education2 = []\n",
    "\n",
    "for ed in contacted_customers.education:\n",
    "    if ed == 'unknown': binned_education2.append(0),\n",
    "    elif ed == 'primary': binned_education2.append(1),\n",
    "    elif ed == 'secondary': binned_education2.append(2),\n",
    "    else: binned_education2.append(3)"
   ]
  },
  {
   "cell_type": "code",
   "execution_count": 23,
   "metadata": {},
   "outputs": [
    {
     "name": "stdout",
     "output_type": "stream",
     "text": [
      "[2, 3, 2, 2, 3, 2, 2, 3, 2, 3, 3, 2, 2, 2, 2, 2, 0, 3, 2, 1, 2, 2, 2, 3, 3, 3, 2, 2, 3, 2, 2, 2, 3, 3, 3, 1, 2, 1, 2, 2, 3, 3, 2, 3, 3, 3, 2, 2, 2, 3, 1, 3, 3, 3, 2, 3, 2, 3, 3, 0, 2, 2, 2, 2, 2, 2, 2, 2, 2, 3, 2, 0, 2, 2, 2, 2, 2, 2, 0, 2, 2, 1, 2, 1, 3, 3, 2, 2, 2, 2, 2, 2, 2, 0, 2, 3, 1, 2, 2, 3, 3, 2, 2, 3, 3, 3, 3, 1, 2, 0, 2, 3, 2, 3, 2, 2, 0, 2, 2, 3, 2, 3, 2, 2, 2, 2, 3, 2, 2, 3, 2, 2, 3, 3, 2, 2, 2, 2, 1, 2, 3, 2, 3, 2, 3, 2, 2, 3, 3, 2, 3, 3, 2, 1, 2, 3, 3, 2, 0, 2, 1, 1, 1, 1, 3, 3, 0, 2, 3, 3, 3, 3, 2, 2, 2, 3, 2, 3, 3, 2, 3, 3, 3, 3, 3, 2, 2, 3, 0, 3, 3, 2, 2, 2, 3, 2, 3, 2, 3, 3, 2, 3, 3, 3, 2, 3, 2, 3, 2, 0, 2, 2, 3, 3, 3, 3, 2, 1, 2, 2, 2, 2, 2, 2, 1, 2, 3, 3, 3, 0, 2, 2, 2, 3, 3, 3, 3, 1, 3, 3, 2, 2, 3, 2, 3, 3, 2, 1, 2, 3, 0, 3, 1, 1, 1, 2, 0, 3, 0, 3, 2, 2, 2, 3, 2, 1, 3, 3, 3, 2, 2, 2, 1, 2, 0, 2, 1, 2, 3, 2, 2, 2, 2, 2, 2, 2, 3, 2, 2, 2, 2, 2, 3, 3, 2, 1, 3, 3, 2, 2, 3, 3, 3, 3, 1, 2, 3, 2, 2, 2, 3, 3, 2, 3, 2, 2, 1, 2, 2, 2, 3, 2, 2, 2, 2, 0, 2, 3, 3, 2, 3, 3, 2, 0, 3, 3, 1, 0, 3, 3, 2, 2, 3, 3, 2, 1, 3, 3, 2, 2, 3, 3, 2, 2, 1, 2, 3, 2, 3, 2, 2, 2, 3, 3, 2, 2, 3, 0, 3, 3, 2, 2, 3, 3, 1, 2, 2, 3, 2, 0, 3, 2, 3, 3, 1, 3, 2, 2, 2, 2, 1, 2, 2, 2, 2, 2, 2, 1, 2, 2, 2, 2, 3, 2, 2, 2, 2, 3, 1, 2, 3, 3, 2, 2, 3, 3, 2, 1, 2, 3, 3, 2, 3, 2, 2, 2, 1, 2, 2, 2, 2, 3, 3, 3, 0, 2, 3, 2, 1, 3, 2, 1, 2, 3, 2, 3, 3, 3, 3, 3, 2, 3, 3, 2, 3, 3, 2, 3, 2, 2, 1, 2, 3, 3, 2, 3, 2, 2, 3, 2, 2, 3, 3, 2, 1, 1, 2, 2, 2, 2, 2, 1, 2, 2, 3, 2, 2, 2, 2, 3, 3, 2, 1, 2, 2, 3, 3, 2, 3, 2, 3, 2, 1, 3, 0, 3, 2, 2, 2, 2, 2, 2, 2, 2, 2, 0, 2, 2, 1, 2, 2, 2, 3, 2, 3, 3, 0, 2, 2, 3, 2, 2, 2, 2, 3, 2, 1, 3, 2, 3, 0, 2, 2, 1, 2, 2, 2, 2, 1, 3, 3, 2, 3, 2, 2, 3, 3, 2, 3, 3, 2, 3, 2, 0, 3, 3, 3, 2, 2, 2, 2, 0, 1, 2, 2, 2, 3, 1, 2, 3, 3, 2, 1, 3, 3, 3, 3, 3, 2, 3, 3, 2, 3, 3, 2, 0, 3, 2, 2, 2, 2, 3, 2, 3, 2, 1, 3, 3, 3, 3, 1, 2, 1, 2, 3, 3, 2, 3, 2, 3, 2, 3, 2, 3, 3, 2, 2, 2, 0, 3, 2, 2, 2, 3, 2, 3, 2, 2, 2, 2, 1, 3, 3, 3, 3, 1, 3, 2, 3, 2, 2, 3, 3, 3, 3, 3, 1, 3, 0, 3, 3, 3, 3, 2, 2, 2, 3, 2, 3, 3, 2, 3, 2, 3, 2, 3, 3, 2, 3, 2, 1, 3, 0, 2, 1, 2, 2, 2, 1, 1, 1, 3, 3, 2, 3, 3, 2, 2, 3, 2, 2, 0, 2, 3, 2, 3, 3, 3, 2, 2, 1, 3, 2, 1, 2, 2, 2, 2, 3, 2, 2, 3, 2, 3, 2, 2, 3, 1, 2, 2, 3, 3, 2, 2, 2, 3, 3, 2, 3, 0, 1, 2, 2, 0, 3, 2, 1, 0, 0, 3, 3, 3, 2, 3, 2, 2, 1, 2, 3, 2, 1, 2, 2, 3, 3, 2, 2, 3, 3, 2, 3, 2, 0, 2, 3, 2, 2, 3, 3, 0, 2, 2, 2, 2, 2, 3, 1, 2, 3, 3, 3, 2, 2, 2, 2, 1, 3, 2, 2, 2, 3, 3, 1, 3, 2, 1, 3, 2, 3, 2, 2, 2, 3, 3, 2, 3, 2, 2, 2, 1, 3, 3, 2, 2, 2, 0, 3, 2, 2, 3, 2, 3, 3, 2, 3, 1, 2, 2, 3, 1, 2, 2, 2, 2, 3, 1, 3, 2, 2, 3, 2, 0, 1, 2, 1, 2, 2, 2, 3, 2, 2, 3, 2, 2, 3, 2, 2, 3, 2, 3, 3, 3, 3, 2, 2, 3, 1, 2, 2, 3, 2, 3, 2, 2, 2, 2, 1, 3, 2, 3, 0, 2, 3, 3, 3, 3, 3, 3, 1, 3, 2, 2, 2, 2, 2, 2, 3, 3, 3, 2, 3, 2, 2, 3, 0, 2, 3, 2, 2, 2, 2, 2, 3, 0, 3, 3, 2, 2, 2, 2, 2, 3, 1, 3, 2, 2, 3, 0, 2, 2, 3, 2, 2, 2, 3, 2, 2, 2, 0, 2, 2, 0, 1, 1, 2, 2, 3, 2, 2, 3, 3, 2, 2, 3, 2, 2, 3, 2, 3, 3, 2, 2, 3, 3, 2, 1, 3, 2, 3, 3, 3, 2, 3, 3, 3, 2, 2, 2, 0, 0, 3, 3, 2, 3, 3, 0, 2, 3, 2, 3, 1, 2, 2, 3, 0, 2, 3, 2, 2, 1, 3, 2, 3, 3, 3, 2, 3, 3, 1, 2, 1, 3, 2, 1, 2, 3, 0, 2, 2, 2, 3, 2, 3, 3, 3, 3, 0, 3, 2, 3, 3, 3, 2, 3, 3, 2, 1, 1, 3, 3, 0, 3, 3, 2, 3, 3, 3, 2, 2, 1, 2, 3, 2, 0, 3, 2, 2, 0, 2, 0, 2, 2, 3, 2, 2, 2, 3, 2, 2, 2, 3, 3, 2, 2, 3, 2, 2, 2, 3, 1, 3, 3, 1, 2, 3, 2, 1, 3, 2, 1, 3, 3, 3, 3, 3, 2, 2, 0, 2, 2, 2, 2, 3, 3, 3, 2, 1, 2, 1, 0, 3, 2, 2, 2, 2, 2, 3, 1, 3, 3, 2, 3, 2, 2, 2, 3, 2, 3, 2, 2, 3, 3, 2, 2, 2, 2, 2, 3, 2, 2, 2, 2, 3, 3, 3, 2, 0, 3, 3, 1, 2, 2, 2, 2, 3, 0, 1, 2, 2, 2, 3, 1, 2, 3, 3, 1, 2, 3, 3, 2, 3, 2, 3, 2, 2, 3, 3, 2, 1, 3, 3, 3, 2, 3, 3, 2, 2, 1, 3, 3, 2, 2, 3, 3, 3, 3, 2, 3, 2, 2, 1, 2, 2, 3, 1, 3, 2, 2, 3, 1, 2, 2, 3, 0, 2, 2, 2, 3, 3, 2, 2, 1, 1, 3, 1, 2, 2, 3, 1, 2, 3, 3, 3, 3, 2, 1, 2, 2, 3, 2, 0, 2, 1, 2, 2, 1, 2, 2, 2, 3, 2, 2, 1, 3, 3, 3, 2, 2, 2, 3, 3, 2, 2, 2, 2, 2, 3, 1, 2, 2, 1, 1, 2, 2, 2, 3, 2, 2, 2, 3, 3, 3, 3, 3, 2, 3, 2, 3, 3, 1, 3, 2, 3, 2, 3, 2, 2, 2, 2, 2, 3, 3, 1, 2, 3, 3, 3, 2, 3, 2, 1, 3, 2, 2, 2, 2, 2, 2, 1, 3, 2, 2, 3, 3, 3, 2, 2, 2, 1, 3, 2, 2, 2, 3, 3, 2, 2, 3, 2, 2, 2, 0, 3, 3, 2, 2, 3, 3, 3, 0, 3, 2, 1, 2, 2, 2, 3, 2, 1, 2, 3, 3, 2, 2, 3, 3, 2, 3, 2, 3, 2, 3, 3, 2, 3, 1, 2, 3, 1, 2, 1, 2, 3, 3, 2, 2, 3, 3, 3, 2, 2, 3, 2, 2, 3, 3, 3, 3, 1, 2, 2, 2, 2, 3, 3, 2, 3, 3, 1, 2, 3, 3, 2, 2, 2, 2, 2, 1, 2, 1, 3, 2, 2, 1, 3, 2, 2, 3, 2, 3, 2, 2, 2, 2, 2, 2, 3, 2, 2, 3, 1, 2, 3, 1, 3, 2, 2, 2, 2, 3, 3, 2, 2, 2, 1, 2, 2, 3, 2, 2, 2, 1, 3, 1, 3, 3, 3, 3, 1, 2, 0, 3, 3, 3, 2, 3, 2, 2, 2, 3, 2, 2, 2, 3, 3, 3, 2, 2, 2, 0, 2, 3, 3, 0, 2, 3, 3, 2, 3, 1, 2, 3, 2, 3, 2, 0, 2, 1, 2, 0, 3, 3, 3, 1, 2, 3, 3, 1, 0, 3, 3, 2, 2, 3, 2, 3, 3, 1, 3, 2, 3, 0, 1, 1, 3, 2, 2, 3, 3, 3, 2, 2, 2, 1, 3, 3, 1, 2, 3, 1, 2, 0, 2, 3, 2, 2, 2, 3, 3, 2, 1, 2, 2, 2, 3, 2, 2, 2, 2, 2, 3, 3, 3, 2, 2, 2, 3, 3, 3, 3, 1, 0, 3, 2, 3, 2, 1, 2, 3, 2, 2, 2, 3, 0, 2, 3, 2, 2, 3, 2, 3, 1, 0, 3, 3, 3, 3, 1, 1, 2, 2, 3, 1, 0, 3, 2, 3, 0, 1, 2, 2, 3, 3, 3, 3, 2, 2, 1, 3, 0, 1, 2, 3, 3, 3, 3, 2, 2, 3, 3, 3, 2, 3, 2, 3, 1, 1, 2, 0, 2, 3, 2, 3, 2, 3, 2, 1, 0, 3, 2, 3, 3, 2, 2, 1, 3, 2, 2, 3, 2, 2, 3, 2, 2, 3, 2, 1, 0, 2, 2, 2, 2, 2, 3, 0, 2, 3, 1, 3, 2, 2, 3, 3, 3, 2, 0, 2, 2, 2, 2, 2, 1, 2, 2, 2, 2, 2, 2, 2, 2, 3, 2, 2, 3, 3, 3, 2, 3, 0, 2, 0, 2, 2, 3, 2, 2, 2, 2, 3, 2, 2, 3, 3, 2, 2, 2, 3, 2, 2, 1, 2, 2, 2, 2, 2, 2, 3, 2, 3, 3, 2, 3, 3, 3, 2, 2, 2, 2, 1, 2, 3, 3, 2, 0, 2, 2, 2, 3, 2, 3, 2, 2, 3, 2, 2, 1, 1, 2, 2, 3, 2, 2, 1, 3, 3, 0, 3, 3, 2, 3, 0, 2, 2, 2, 3, 3, 2, 2, 3, 2, 2, 2, 3, 1, 3, 1, 2, 3, 2, 1, 2, 2, 3, 3, 3, 2, 1, 3, 0, 3, 3, 3, 3, 2, 2, 2, 2, 3, 3, 3, 2, 3, 3, 2, 0, 3, 2, 2, 2, 2, 3, 1, 1, 3, 2, 2, 2, 1, 3, 2, 0, 3, 3, 2, 3, 1, 2, 1, 2, 3, 3, 3, 3, 1, 3, 3, 2, 1, 3, 3, 1, 1, 2, 2, 0, 2, 2, 3, 2, 2, 2, 3, 2, 1, 2, 2, 3, 3, 2, 3, 2, 2, 3, 3, 3, 3, 2, 2, 2, 2, 3, 2, 2, 2, 2, 3, 1, 1, 2, 1, 2, 3, 1, 2, 3, 3, 3, 2, 2, 2, 1, 2, 3, 2, 3, 3, 3, 2, 3, 2, 2, 2, 3, 2, 2, 2, 2, 3, 2, 2, 2, 1, 2, 2, 2, 3, 3, 2, 2, 3, 3, 2, 2, 2, 1, 3, 3, 3, 3, 3, 3, 2, 2, 3, 3, 2, 2, 2, 3, 3, 2, 0, 3, 2, 3, 2, 2, 2, 3, 3, 3, 2, 2, 3, 2, 3, 3, 3, 1, 2, 0, 2, 3, 3, 3, 2, 3, 0, 1, 2, 2, 2, 2, 2, 3, 3, 3, 3, 2, 3, 3, 2, 2, 2, 3, 3, 3, 3, 3, 3, 2, 3, 3, 3, 3, 2, 2, 3, 2, 2, 2, 2, 3, 1, 2, 3, 1, 3, 2, 3, 2, 3, 3, 2, 1, 0, 3, 2, 2, 2, 2, 3, 2, 3, 0, 3, 2, 3, 3, 3, 3, 3, 2, 2, 2, 2, 0, 2, 3, 3, 3, 0, 3, 1, 2, 1, 2, 3, 3, 2, 2, 2, 2, 2, 2, 3, 3, 0, 2, 2, 2, 3, 1, 3, 3, 1, 3, 2, 2, 1, 3, 2, 2, 2, 2, 3, 2, 3, 1, 2, 3, 3, 3, 2, 2, 2, 2, 3, 2, 2, 3, 2, 2, 2, 2, 3, 2, 2, 2, 3, 3, 2, 3, 3, 2, 0, 3, 0, 1, 2, 3, 3, 2, 3, 3, 2, 1, 2, 2, 2, 3, 3, 2, 3, 2, 3, 2, 2, 2, 2, 2, 1, 2, 2, 3, 3, 2, 3, 2, 3, 1, 3, 3, 2, 1, 3, 2, 3, 1, 2, 3, 3, 2, 3, 1, 1, 3, 1, 3, 2, 2, 2, 2, 2, 2, 2, 2, 2, 2, 2, 3, 2, 2, 0, 3, 3, 2, 3, 2, 1, 3, 3, 3, 3, 3, 2, 3, 2, 0, 2, 2, 3, 3, 3, 1, 2, 2, 2, 3, 3, 3, 2, 2, 3, 2, 2, 3, 0, 3, 3, 2, 2, 2, 2, 2, 3, 1, 3, 2, 3, 2, 3, 3, 3, 3, 2, 3, 3, 3, 3, 3, 3, 3, 2, 2, 2, 2, 3, 2, 3, 1, 3, 3, 2, 2, 1, 3, 2, 2, 3, 2, 2, 3, 3, 2, 1, 3, 0, 2]\n"
     ]
    }
   ],
   "source": [
    "print(binned_education2)"
   ]
  },
  {
   "cell_type": "code",
   "execution_count": 24,
   "metadata": {},
   "outputs": [],
   "source": [
    "contacted_customers['binned_education'] = binned_education2"
   ]
  },
  {
   "cell_type": "code",
   "execution_count": 25,
   "metadata": {},
   "outputs": [
    {
     "data": {
      "text/plain": [
       "array(['M', 'F'], dtype=object)"
      ]
     },
     "execution_count": 25,
     "metadata": {},
     "output_type": "execute_result"
    }
   ],
   "source": [
    "contacted_customers.gender.unique()"
   ]
  },
  {
   "cell_type": "code",
   "execution_count": 26,
   "metadata": {},
   "outputs": [],
   "source": [
    "binned_gender = []\n",
    "\n",
    "for g in contacted_customers.gender:\n",
    "    if g =='F': binned_gender.append(0),\n",
    "    else: binned_gender.append(1)"
   ]
  },
  {
   "cell_type": "code",
   "execution_count": 27,
   "metadata": {},
   "outputs": [],
   "source": [
    "contacted_customers['binned_gender'] = binned_gender"
   ]
  },
  {
   "cell_type": "code",
   "execution_count": 28,
   "metadata": {},
   "outputs": [
    {
     "data": {
      "text/html": [
       "<div>\n",
       "<style scoped>\n",
       "    .dataframe tbody tr th:only-of-type {\n",
       "        vertical-align: middle;\n",
       "    }\n",
       "\n",
       "    .dataframe tbody tr th {\n",
       "        vertical-align: top;\n",
       "    }\n",
       "\n",
       "    .dataframe thead th {\n",
       "        text-align: right;\n",
       "    }\n",
       "</style>\n",
       "<table border=\"1\" class=\"dataframe\">\n",
       "  <thead>\n",
       "    <tr style=\"text-align: right;\">\n",
       "      <th></th>\n",
       "      <th>client_id</th>\n",
       "      <th>poutcome</th>\n",
       "      <th>average_balance</th>\n",
       "      <th>has_deposits</th>\n",
       "      <th>loan</th>\n",
       "      <th>has_insurance</th>\n",
       "      <th>has_mortgage</th>\n",
       "      <th>age</th>\n",
       "      <th>marital</th>\n",
       "      <th>education</th>\n",
       "      <th>gender</th>\n",
       "      <th>binned_ages</th>\n",
       "      <th>binned_education</th>\n",
       "      <th>binned_gender</th>\n",
       "    </tr>\n",
       "  </thead>\n",
       "  <tbody>\n",
       "    <tr>\n",
       "      <th>0</th>\n",
       "      <td>249789938</td>\n",
       "      <td>1</td>\n",
       "      <td>2673.410334</td>\n",
       "      <td>1</td>\n",
       "      <td>0</td>\n",
       "      <td>0</td>\n",
       "      <td>0</td>\n",
       "      <td>38</td>\n",
       "      <td>1</td>\n",
       "      <td>secondary</td>\n",
       "      <td>M</td>\n",
       "      <td>1</td>\n",
       "      <td>2</td>\n",
       "      <td>1</td>\n",
       "    </tr>\n",
       "    <tr>\n",
       "      <th>1</th>\n",
       "      <td>1504633819</td>\n",
       "      <td>0</td>\n",
       "      <td>5426.688121</td>\n",
       "      <td>0</td>\n",
       "      <td>1</td>\n",
       "      <td>0</td>\n",
       "      <td>1</td>\n",
       "      <td>38</td>\n",
       "      <td>1</td>\n",
       "      <td>tertiary</td>\n",
       "      <td>M</td>\n",
       "      <td>1</td>\n",
       "      <td>3</td>\n",
       "      <td>1</td>\n",
       "    </tr>\n",
       "    <tr>\n",
       "      <th>2</th>\n",
       "      <td>1952195738</td>\n",
       "      <td>1</td>\n",
       "      <td>2896.273313</td>\n",
       "      <td>1</td>\n",
       "      <td>1</td>\n",
       "      <td>0</td>\n",
       "      <td>0</td>\n",
       "      <td>34</td>\n",
       "      <td>1</td>\n",
       "      <td>secondary</td>\n",
       "      <td>M</td>\n",
       "      <td>0</td>\n",
       "      <td>2</td>\n",
       "      <td>1</td>\n",
       "    </tr>\n",
       "    <tr>\n",
       "      <th>3</th>\n",
       "      <td>989726384</td>\n",
       "      <td>1</td>\n",
       "      <td>3115.820938</td>\n",
       "      <td>1</td>\n",
       "      <td>0</td>\n",
       "      <td>0</td>\n",
       "      <td>0</td>\n",
       "      <td>62</td>\n",
       "      <td>1</td>\n",
       "      <td>secondary</td>\n",
       "      <td>F</td>\n",
       "      <td>1</td>\n",
       "      <td>2</td>\n",
       "      <td>0</td>\n",
       "    </tr>\n",
       "    <tr>\n",
       "      <th>4</th>\n",
       "      <td>1971878545</td>\n",
       "      <td>0</td>\n",
       "      <td>492.085398</td>\n",
       "      <td>1</td>\n",
       "      <td>0</td>\n",
       "      <td>0</td>\n",
       "      <td>0</td>\n",
       "      <td>36</td>\n",
       "      <td>0</td>\n",
       "      <td>tertiary</td>\n",
       "      <td>M</td>\n",
       "      <td>1</td>\n",
       "      <td>3</td>\n",
       "      <td>1</td>\n",
       "    </tr>\n",
       "  </tbody>\n",
       "</table>\n",
       "</div>"
      ],
      "text/plain": [
       "    client_id poutcome  average_balance has_deposits loan has_insurance  \\\n",
       "0   249789938        1      2673.410334            1    0             0   \n",
       "1  1504633819        0      5426.688121            0    1             0   \n",
       "2  1952195738        1      2896.273313            1    1             0   \n",
       "3   989726384        1      3115.820938            1    0             0   \n",
       "4  1971878545        0       492.085398            1    0             0   \n",
       "\n",
       "  has_mortgage  age marital  education gender  binned_ages  binned_education  \\\n",
       "0            0   38       1  secondary      M            1                 2   \n",
       "1            1   38       1   tertiary      M            1                 3   \n",
       "2            0   34       1  secondary      M            0                 2   \n",
       "3            0   62       1  secondary      F            1                 2   \n",
       "4            0   36       0   tertiary      M            1                 3   \n",
       "\n",
       "   binned_gender  \n",
       "0              1  \n",
       "1              1  \n",
       "2              1  \n",
       "3              0  \n",
       "4              1  "
      ]
     },
     "execution_count": 28,
     "metadata": {},
     "output_type": "execute_result"
    }
   ],
   "source": [
    "contacted_customers.head()"
   ]
  },
  {
   "cell_type": "code",
   "execution_count": 29,
   "metadata": {},
   "outputs": [],
   "source": [
    "X = contacted_customers.drop(['poutcome', 'education', 'gender', 'age'], axis=1)\n",
    "y = contacted_customers['poutcome']"
   ]
  },
  {
   "cell_type": "code",
   "execution_count": 30,
   "metadata": {},
   "outputs": [
    {
     "name": "stdout",
     "output_type": "stream",
     "text": [
      "Requirement already satisfied: scikit-learn in /Library/Frameworks/Python.framework/Versions/3.11/lib/python3.11/site-packages (1.3.2)\n",
      "Requirement already satisfied: numpy<2.0,>=1.17.3 in /Library/Frameworks/Python.framework/Versions/3.11/lib/python3.11/site-packages (from scikit-learn) (1.26.2)\n",
      "Requirement already satisfied: scipy>=1.5.0 in /Library/Frameworks/Python.framework/Versions/3.11/lib/python3.11/site-packages (from scikit-learn) (1.11.4)\n",
      "Requirement already satisfied: joblib>=1.1.1 in /Library/Frameworks/Python.framework/Versions/3.11/lib/python3.11/site-packages (from scikit-learn) (1.3.2)\n",
      "Requirement already satisfied: threadpoolctl>=2.0.0 in /Library/Frameworks/Python.framework/Versions/3.11/lib/python3.11/site-packages (from scikit-learn) (3.2.0)\n"
     ]
    }
   ],
   "source": [
    "import numpy as np\n",
    "!pip3 install scikit-learn\n",
    "import sklearn\n",
    "from sklearn.preprocessing import RobustScaler\n",
    "from sklearn.model_selection import train_test_split\n",
    "X_train, X_test, y_train, y_test = train_test_split (X, y, random_state=42)"
   ]
  },
  {
   "cell_type": "code",
   "execution_count": 31,
   "metadata": {},
   "outputs": [
    {
     "data": {
      "text/html": [
       "<style>#sk-container-id-1 {color: black;}#sk-container-id-1 pre{padding: 0;}#sk-container-id-1 div.sk-toggleable {background-color: white;}#sk-container-id-1 label.sk-toggleable__label {cursor: pointer;display: block;width: 100%;margin-bottom: 0;padding: 0.3em;box-sizing: border-box;text-align: center;}#sk-container-id-1 label.sk-toggleable__label-arrow:before {content: \"▸\";float: left;margin-right: 0.25em;color: #696969;}#sk-container-id-1 label.sk-toggleable__label-arrow:hover:before {color: black;}#sk-container-id-1 div.sk-estimator:hover label.sk-toggleable__label-arrow:before {color: black;}#sk-container-id-1 div.sk-toggleable__content {max-height: 0;max-width: 0;overflow: hidden;text-align: left;background-color: #f0f8ff;}#sk-container-id-1 div.sk-toggleable__content pre {margin: 0.2em;color: black;border-radius: 0.25em;background-color: #f0f8ff;}#sk-container-id-1 input.sk-toggleable__control:checked~div.sk-toggleable__content {max-height: 200px;max-width: 100%;overflow: auto;}#sk-container-id-1 input.sk-toggleable__control:checked~label.sk-toggleable__label-arrow:before {content: \"▾\";}#sk-container-id-1 div.sk-estimator input.sk-toggleable__control:checked~label.sk-toggleable__label {background-color: #d4ebff;}#sk-container-id-1 div.sk-label input.sk-toggleable__control:checked~label.sk-toggleable__label {background-color: #d4ebff;}#sk-container-id-1 input.sk-hidden--visually {border: 0;clip: rect(1px 1px 1px 1px);clip: rect(1px, 1px, 1px, 1px);height: 1px;margin: -1px;overflow: hidden;padding: 0;position: absolute;width: 1px;}#sk-container-id-1 div.sk-estimator {font-family: monospace;background-color: #f0f8ff;border: 1px dotted black;border-radius: 0.25em;box-sizing: border-box;margin-bottom: 0.5em;}#sk-container-id-1 div.sk-estimator:hover {background-color: #d4ebff;}#sk-container-id-1 div.sk-parallel-item::after {content: \"\";width: 100%;border-bottom: 1px solid gray;flex-grow: 1;}#sk-container-id-1 div.sk-label:hover label.sk-toggleable__label {background-color: #d4ebff;}#sk-container-id-1 div.sk-serial::before {content: \"\";position: absolute;border-left: 1px solid gray;box-sizing: border-box;top: 0;bottom: 0;left: 50%;z-index: 0;}#sk-container-id-1 div.sk-serial {display: flex;flex-direction: column;align-items: center;background-color: white;padding-right: 0.2em;padding-left: 0.2em;position: relative;}#sk-container-id-1 div.sk-item {position: relative;z-index: 1;}#sk-container-id-1 div.sk-parallel {display: flex;align-items: stretch;justify-content: center;background-color: white;position: relative;}#sk-container-id-1 div.sk-item::before, #sk-container-id-1 div.sk-parallel-item::before {content: \"\";position: absolute;border-left: 1px solid gray;box-sizing: border-box;top: 0;bottom: 0;left: 50%;z-index: -1;}#sk-container-id-1 div.sk-parallel-item {display: flex;flex-direction: column;z-index: 1;position: relative;background-color: white;}#sk-container-id-1 div.sk-parallel-item:first-child::after {align-self: flex-end;width: 50%;}#sk-container-id-1 div.sk-parallel-item:last-child::after {align-self: flex-start;width: 50%;}#sk-container-id-1 div.sk-parallel-item:only-child::after {width: 0;}#sk-container-id-1 div.sk-dashed-wrapped {border: 1px dashed gray;margin: 0 0.4em 0.5em 0.4em;box-sizing: border-box;padding-bottom: 0.4em;background-color: white;}#sk-container-id-1 div.sk-label label {font-family: monospace;font-weight: bold;display: inline-block;line-height: 1.2em;}#sk-container-id-1 div.sk-label-container {text-align: center;}#sk-container-id-1 div.sk-container {/* jupyter's `normalize.less` sets `[hidden] { display: none; }` but bootstrap.min.css set `[hidden] { display: none !important; }` so we also need the `!important` here to be able to override the default hidden behavior on the sphinx rendered scikit-learn.org. See: https://github.com/scikit-learn/scikit-learn/issues/21755 */display: inline-block !important;position: relative;}#sk-container-id-1 div.sk-text-repr-fallback {display: none;}</style><div id=\"sk-container-id-1\" class=\"sk-top-container\"><div class=\"sk-text-repr-fallback\"><pre>RobustScaler()</pre><b>In a Jupyter environment, please rerun this cell to show the HTML representation or trust the notebook. <br />On GitHub, the HTML representation is unable to render, please try loading this page with nbviewer.org.</b></div><div class=\"sk-container\" hidden><div class=\"sk-item\"><div class=\"sk-estimator sk-toggleable\"><input class=\"sk-toggleable__control sk-hidden--visually\" id=\"sk-estimator-id-1\" type=\"checkbox\" checked><label for=\"sk-estimator-id-1\" class=\"sk-toggleable__label sk-toggleable__label-arrow\">RobustScaler</label><div class=\"sk-toggleable__content\"><pre>RobustScaler()</pre></div></div></div></div></div>"
      ],
      "text/plain": [
       "RobustScaler()"
      ]
     },
     "execution_count": 31,
     "metadata": {},
     "output_type": "execute_result"
    }
   ],
   "source": [
    "scaler = RobustScaler()\n",
    "scaler.fit(X_train)"
   ]
  },
  {
   "cell_type": "code",
   "execution_count": 32,
   "metadata": {},
   "outputs": [
    {
     "data": {
      "text/plain": [
       "array([[ 0.57884513,  1.67098367,  0.        , ...,  0.        ,\n",
       "         1.        ,  1.        ],\n",
       "       [ 0.34195995, -0.33051755, -1.        , ...,  0.        ,\n",
       "         0.        ,  1.        ],\n",
       "       [-0.0741618 , -0.23537024, -1.        , ...,  0.        ,\n",
       "         0.        ,  1.        ],\n",
       "       ...,\n",
       "       [-0.04845883,  1.24848697, -1.        , ..., -1.        ,\n",
       "         0.        ,  1.        ],\n",
       "       [ 0.46427221, -0.16367276,  0.        , ...,  0.        ,\n",
       "         0.        ,  0.        ],\n",
       "       [ 0.25775547, -0.24468828, -1.        , ..., -1.        ,\n",
       "         0.        ,  1.        ]])"
      ]
     },
     "execution_count": 32,
     "metadata": {},
     "output_type": "execute_result"
    }
   ],
   "source": [
    "scaler.transform(X_train)"
   ]
  },
  {
   "cell_type": "code",
   "execution_count": 33,
   "metadata": {},
   "outputs": [],
   "source": [
    "X_train_scaled = scaler.transform(X_train)"
   ]
  },
  {
   "cell_type": "code",
   "execution_count": 34,
   "metadata": {},
   "outputs": [],
   "source": [
    "X_test_scaled = scaler.transform(X_test)"
   ]
  },
  {
   "cell_type": "code",
   "execution_count": 35,
   "metadata": {},
   "outputs": [
    {
     "name": "stdout",
     "output_type": "stream",
     "text": [
      "[[ 0.57884513  1.67098367  0.         ...  0.          1.\n",
      "   1.        ]\n",
      " [ 0.34195995 -0.33051755 -1.         ...  0.          0.\n",
      "   1.        ]\n",
      " [-0.0741618  -0.23537024 -1.         ...  0.          0.\n",
      "   1.        ]\n",
      " ...\n",
      " [-0.04845883  1.24848697 -1.         ... -1.          0.\n",
      "   1.        ]\n",
      " [ 0.46427221 -0.16367276  0.         ...  0.          0.\n",
      "   0.        ]\n",
      " [ 0.25775547 -0.24468828 -1.         ... -1.          0.\n",
      "   1.        ]]\n",
      "[[-0.0767818   0.45008857  0.         ...  0.          0.\n",
      "   1.        ]\n",
      " [ 0.4509757  -0.34945705  0.         ...  0.         -2.\n",
      "   0.        ]\n",
      " [ 0.60738487  5.37249228  0.         ...  0.          0.\n",
      "   1.        ]\n",
      " ...\n",
      " [ 0.68542248  0.47979587  0.         ...  0.          1.\n",
      "   1.        ]\n",
      " [ 0.02890732  0.56027178  0.         ...  0.          1.\n",
      "   0.        ]\n",
      " [ 0.45439555  1.10843698  0.         ... -1.          1.\n",
      "   0.        ]]\n"
     ]
    }
   ],
   "source": [
    "print(X_train_scaled)\n",
    "print(X_test_scaled)"
   ]
  },
  {
   "cell_type": "code",
   "execution_count": 36,
   "metadata": {},
   "outputs": [
    {
     "data": {
      "text/plain": [
       "Text(0.5, 1.0, 'Standardized Data')"
      ]
     },
     "execution_count": 36,
     "metadata": {},
     "output_type": "execute_result"
    },
    {
     "data": {
      "image/png": "[encoded data removed]",
      "text/plain": [
       "<Figure size 1500x1000 with 2 Axes>"
      ]
     },
     "metadata": {},
     "output_type": "display_data"
    }
   ],
   "source": [
    "fig, (ax1, ax2) = plt.subplots(2, 1, figsize=(15, 10))\n",
    "\n",
    "sns.kdeplot(data=contacted_customers, ax=ax1, fill=True)\n",
    "ax1.set_title(\"Original Data\")\n",
    "\n",
    "sns.kdeplot(data=X_test_scaled, ax=ax2, fill=True)\n",
    "ax2.set_title(\"Standardized Data\")"
   ]
  },
  {
   "cell_type": "code",
   "execution_count": 37,
   "metadata": {},
   "outputs": [],
   "source": [
    "from sklearn.ensemble import RandomForestClassifier\n",
    "from sklearn.metrics import accuracy_score"
   ]
  },
  {
   "cell_type": "code",
   "execution_count": 38,
   "metadata": {},
   "outputs": [
    {
     "name": "stdout",
     "output_type": "stream",
     "text": [
      "Accuracy: 71.13%\n"
     ]
    }
   ],
   "source": [
    "clf = RandomForestClassifier(max_depth = 4)\n",
    "\n",
    "clf.fit(X_train_scaled, y_train)\n",
    " \n",
    "y_pred = clf.predict(X_test_scaled)\n",
    "accuracy = accuracy_score(y_test, y_pred)\n",
    "print(f\"Accuracy: {accuracy*100:.2f}%\")"
   ]
  },
  {
   "cell_type": "code",
   "execution_count": 39,
   "metadata": {},
   "outputs": [
    {
     "name": "stdout",
     "output_type": "stream",
     "text": [
      "Accuracy: 71.64%\n"
     ]
    }
   ],
   "source": [
    "y_pred = clf.predict(X_train_scaled)\n",
    "accuracy = accuracy_score(y_train, y_pred)\n",
    "print(f\"Accuracy: {accuracy*100:.2f}%\")"
   ]
  },
  {
   "cell_type": "code",
   "execution_count": 40,
   "metadata": {},
   "outputs": [],
   "source": [
    "all_customers = pd.merge(pd.merge(pd.merge(inv_camp_df, average_balances_df, on='client_id', how='outer'), client_products_df, on='client_id', how='outer'), new_client_df, on='client_id', how='outer')\n"
   ]
  },
  {
   "cell_type": "code",
   "execution_count": 41,
   "metadata": {},
   "outputs": [
    {
     "name": "stdout",
     "output_type": "stream",
     "text": [
      "2299\n",
      "11162\n"
     ]
    }
   ],
   "source": [
    "print(len(contacted_customers))\n",
    "print(len(all_customers))"
   ]
  },
  {
   "cell_type": "code",
   "execution_count": 42,
   "metadata": {},
   "outputs": [],
   "source": [
    "all_customers = all_customers.replace({\"M\":1, \"F\":0, \"yes\":1, \"no\":0, \"y\":1, \"n\":0, \"success\":1, \"failure\":0 })"
   ]
  },
  {
   "cell_type": "code",
   "execution_count": 43,
   "metadata": {},
   "outputs": [
    {
     "data": {
      "text/html": [
       "<div>\n",
       "<style scoped>\n",
       "    .dataframe tbody tr th:only-of-type {\n",
       "        vertical-align: middle;\n",
       "    }\n",
       "\n",
       "    .dataframe tbody tr th {\n",
       "        vertical-align: top;\n",
       "    }\n",
       "\n",
       "    .dataframe thead th {\n",
       "        text-align: right;\n",
       "    }\n",
       "</style>\n",
       "<table border=\"1\" class=\"dataframe\">\n",
       "  <thead>\n",
       "    <tr style=\"text-align: right;\">\n",
       "      <th></th>\n",
       "      <th>client_id</th>\n",
       "      <th>poutcome</th>\n",
       "      <th>average_balance</th>\n",
       "      <th>has_deposits</th>\n",
       "      <th>loan</th>\n",
       "      <th>has_insurance</th>\n",
       "      <th>has_mortgage</th>\n",
       "      <th>age</th>\n",
       "      <th>marital</th>\n",
       "      <th>education</th>\n",
       "      <th>gender</th>\n",
       "    </tr>\n",
       "  </thead>\n",
       "  <tbody>\n",
       "    <tr>\n",
       "      <th>0</th>\n",
       "      <td>249789938</td>\n",
       "      <td>1.0</td>\n",
       "      <td>2673.410334</td>\n",
       "      <td>1</td>\n",
       "      <td>0</td>\n",
       "      <td>0</td>\n",
       "      <td>0</td>\n",
       "      <td>38</td>\n",
       "      <td>married</td>\n",
       "      <td>secondary</td>\n",
       "      <td>1</td>\n",
       "    </tr>\n",
       "    <tr>\n",
       "      <th>1</th>\n",
       "      <td>1504633819</td>\n",
       "      <td>0.0</td>\n",
       "      <td>5426.688121</td>\n",
       "      <td>0</td>\n",
       "      <td>1</td>\n",
       "      <td>0</td>\n",
       "      <td>1</td>\n",
       "      <td>38</td>\n",
       "      <td>married</td>\n",
       "      <td>tertiary</td>\n",
       "      <td>1</td>\n",
       "    </tr>\n",
       "    <tr>\n",
       "      <th>2</th>\n",
       "      <td>1952195738</td>\n",
       "      <td>1.0</td>\n",
       "      <td>2896.273313</td>\n",
       "      <td>1</td>\n",
       "      <td>1</td>\n",
       "      <td>0</td>\n",
       "      <td>0</td>\n",
       "      <td>34</td>\n",
       "      <td>married</td>\n",
       "      <td>secondary</td>\n",
       "      <td>1</td>\n",
       "    </tr>\n",
       "    <tr>\n",
       "      <th>3</th>\n",
       "      <td>989726384</td>\n",
       "      <td>1.0</td>\n",
       "      <td>3115.820938</td>\n",
       "      <td>1</td>\n",
       "      <td>0</td>\n",
       "      <td>0</td>\n",
       "      <td>0</td>\n",
       "      <td>62</td>\n",
       "      <td>married</td>\n",
       "      <td>secondary</td>\n",
       "      <td>0</td>\n",
       "    </tr>\n",
       "    <tr>\n",
       "      <th>4</th>\n",
       "      <td>1971878545</td>\n",
       "      <td>0.0</td>\n",
       "      <td>492.085398</td>\n",
       "      <td>1</td>\n",
       "      <td>0</td>\n",
       "      <td>0</td>\n",
       "      <td>0</td>\n",
       "      <td>36</td>\n",
       "      <td>single</td>\n",
       "      <td>tertiary</td>\n",
       "      <td>1</td>\n",
       "    </tr>\n",
       "  </tbody>\n",
       "</table>\n",
       "</div>"
      ],
      "text/plain": [
       "    client_id  poutcome  average_balance  has_deposits  loan  has_insurance  \\\n",
       "0   249789938       1.0      2673.410334             1     0              0   \n",
       "1  1504633819       0.0      5426.688121             0     1              0   \n",
       "2  1952195738       1.0      2896.273313             1     1              0   \n",
       "3   989726384       1.0      3115.820938             1     0              0   \n",
       "4  1971878545       0.0       492.085398             1     0              0   \n",
       "\n",
       "   has_mortgage  age  marital  education  gender  \n",
       "0             0   38  married  secondary       1  \n",
       "1             1   38  married   tertiary       1  \n",
       "2             0   34  married  secondary       1  \n",
       "3             0   62  married  secondary       0  \n",
       "4             0   36   single   tertiary       1  "
      ]
     },
     "execution_count": 43,
     "metadata": {},
     "output_type": "execute_result"
    }
   ],
   "source": [
    "all_customers.head()"
   ]
  },
  {
   "cell_type": "code",
   "execution_count": 44,
   "metadata": {},
   "outputs": [],
   "source": [
    "all_customers_encoded = pd.get_dummies(all_customers)"
   ]
  },
  {
   "cell_type": "code",
   "execution_count": 45,
   "metadata": {},
   "outputs": [
    {
     "data": {
      "text/html": [
       "<div>\n",
       "<style scoped>\n",
       "    .dataframe tbody tr th:only-of-type {\n",
       "        vertical-align: middle;\n",
       "    }\n",
       "\n",
       "    .dataframe tbody tr th {\n",
       "        vertical-align: top;\n",
       "    }\n",
       "\n",
       "    .dataframe thead th {\n",
       "        text-align: right;\n",
       "    }\n",
       "</style>\n",
       "<table border=\"1\" class=\"dataframe\">\n",
       "  <thead>\n",
       "    <tr style=\"text-align: right;\">\n",
       "      <th></th>\n",
       "      <th>client_id</th>\n",
       "      <th>poutcome</th>\n",
       "      <th>average_balance</th>\n",
       "      <th>has_deposits</th>\n",
       "      <th>loan</th>\n",
       "      <th>has_insurance</th>\n",
       "      <th>has_mortgage</th>\n",
       "      <th>age</th>\n",
       "      <th>gender</th>\n",
       "      <th>marital_divorced</th>\n",
       "      <th>marital_married</th>\n",
       "      <th>marital_single</th>\n",
       "      <th>education_primary</th>\n",
       "      <th>education_secondary</th>\n",
       "      <th>education_tertiary</th>\n",
       "      <th>education_unknown</th>\n",
       "    </tr>\n",
       "  </thead>\n",
       "  <tbody>\n",
       "    <tr>\n",
       "      <th>0</th>\n",
       "      <td>249789938</td>\n",
       "      <td>1.0</td>\n",
       "      <td>2673.410334</td>\n",
       "      <td>1</td>\n",
       "      <td>0</td>\n",
       "      <td>0</td>\n",
       "      <td>0</td>\n",
       "      <td>38</td>\n",
       "      <td>1</td>\n",
       "      <td>False</td>\n",
       "      <td>True</td>\n",
       "      <td>False</td>\n",
       "      <td>False</td>\n",
       "      <td>True</td>\n",
       "      <td>False</td>\n",
       "      <td>False</td>\n",
       "    </tr>\n",
       "    <tr>\n",
       "      <th>1</th>\n",
       "      <td>1504633819</td>\n",
       "      <td>0.0</td>\n",
       "      <td>5426.688121</td>\n",
       "      <td>0</td>\n",
       "      <td>1</td>\n",
       "      <td>0</td>\n",
       "      <td>1</td>\n",
       "      <td>38</td>\n",
       "      <td>1</td>\n",
       "      <td>False</td>\n",
       "      <td>True</td>\n",
       "      <td>False</td>\n",
       "      <td>False</td>\n",
       "      <td>False</td>\n",
       "      <td>True</td>\n",
       "      <td>False</td>\n",
       "    </tr>\n",
       "    <tr>\n",
       "      <th>2</th>\n",
       "      <td>1952195738</td>\n",
       "      <td>1.0</td>\n",
       "      <td>2896.273313</td>\n",
       "      <td>1</td>\n",
       "      <td>1</td>\n",
       "      <td>0</td>\n",
       "      <td>0</td>\n",
       "      <td>34</td>\n",
       "      <td>1</td>\n",
       "      <td>False</td>\n",
       "      <td>True</td>\n",
       "      <td>False</td>\n",
       "      <td>False</td>\n",
       "      <td>True</td>\n",
       "      <td>False</td>\n",
       "      <td>False</td>\n",
       "    </tr>\n",
       "    <tr>\n",
       "      <th>3</th>\n",
       "      <td>989726384</td>\n",
       "      <td>1.0</td>\n",
       "      <td>3115.820938</td>\n",
       "      <td>1</td>\n",
       "      <td>0</td>\n",
       "      <td>0</td>\n",
       "      <td>0</td>\n",
       "      <td>62</td>\n",
       "      <td>0</td>\n",
       "      <td>False</td>\n",
       "      <td>True</td>\n",
       "      <td>False</td>\n",
       "      <td>False</td>\n",
       "      <td>True</td>\n",
       "      <td>False</td>\n",
       "      <td>False</td>\n",
       "    </tr>\n",
       "    <tr>\n",
       "      <th>4</th>\n",
       "      <td>1971878545</td>\n",
       "      <td>0.0</td>\n",
       "      <td>492.085398</td>\n",
       "      <td>1</td>\n",
       "      <td>0</td>\n",
       "      <td>0</td>\n",
       "      <td>0</td>\n",
       "      <td>36</td>\n",
       "      <td>1</td>\n",
       "      <td>False</td>\n",
       "      <td>False</td>\n",
       "      <td>True</td>\n",
       "      <td>False</td>\n",
       "      <td>False</td>\n",
       "      <td>True</td>\n",
       "      <td>False</td>\n",
       "    </tr>\n",
       "  </tbody>\n",
       "</table>\n",
       "</div>"
      ],
      "text/plain": [
       "    client_id  poutcome  average_balance  has_deposits  loan  has_insurance  \\\n",
       "0   249789938       1.0      2673.410334             1     0              0   \n",
       "1  1504633819       0.0      5426.688121             0     1              0   \n",
       "2  1952195738       1.0      2896.273313             1     1              0   \n",
       "3   989726384       1.0      3115.820938             1     0              0   \n",
       "4  1971878545       0.0       492.085398             1     0              0   \n",
       "\n",
       "   has_mortgage  age  gender  marital_divorced  marital_married  \\\n",
       "0             0   38       1             False             True   \n",
       "1             1   38       1             False             True   \n",
       "2             0   34       1             False             True   \n",
       "3             0   62       0             False             True   \n",
       "4             0   36       1             False            False   \n",
       "\n",
       "   marital_single  education_primary  education_secondary  education_tertiary  \\\n",
       "0           False              False                 True               False   \n",
       "1           False              False                False                True   \n",
       "2           False              False                 True               False   \n",
       "3           False              False                 True               False   \n",
       "4            True              False                False                True   \n",
       "\n",
       "   education_unknown  \n",
       "0              False  \n",
       "1              False  \n",
       "2              False  \n",
       "3              False  \n",
       "4              False  "
      ]
     },
     "execution_count": 45,
     "metadata": {},
     "output_type": "execute_result"
    }
   ],
   "source": [
    "all_customers_encoded.head()"
   ]
  },
  {
   "cell_type": "code",
   "execution_count": 46,
   "metadata": {},
   "outputs": [],
   "source": [
    "train_test_data = all_customers_encoded[~(all_customers_encoded.poutcome.isna())] #NON CONTACTED\n",
    "to_apply_data = all_customers_encoded[(all_customers_encoded.poutcome.isna())] #CONTACTED"
   ]
  },
  {
   "cell_type": "code",
   "execution_count": 47,
   "metadata": {},
   "outputs": [],
   "source": [
    "X = train_test_data.drop(\"poutcome\", axis = 1)\n",
    "y = train_test_data[\"poutcome\"]"
   ]
  },
  {
   "cell_type": "code",
   "execution_count": 48,
   "metadata": {},
   "outputs": [],
   "source": [
    "X_train, X_test, y_train, y_test = train_test_split(X, y, test_size=0.3, random_state=42)"
   ]
  },
  {
   "cell_type": "code",
   "execution_count": 49,
   "metadata": {},
   "outputs": [],
   "source": [
    "from sklearn.model_selection import train_test_split, GridSearchCV\n",
    "from sklearn.preprocessing import StandardScaler, PolynomialFeatures\n",
    "from sklearn.decomposition import PCA\n",
    "from sklearn.pipeline import Pipeline\n",
    "from sklearn.linear_model import LogisticRegression\n",
    "from sklearn.ensemble import RandomForestClassifier\n",
    "from sklearn.svm import SVC\n",
    "from sklearn.metrics import accuracy_score"
   ]
  },
  {
   "cell_type": "code",
   "execution_count": 50,
   "metadata": {},
   "outputs": [],
   "source": [
    "pipeline_lr = Pipeline([\n",
    "    ('scaler', StandardScaler()),\n",
    "    ('clf', LogisticRegression(random_state=42))\n",
    "])\n",
    "pipeline_rf = Pipeline([\n",
    "    ('scaler', StandardScaler()),\n",
    "    ('clf', RandomForestClassifier(random_state=42))\n",
    "])\n",
    "pipeline_svc = Pipeline([\n",
    "    ('scaler', StandardScaler()),\n",
    "    ('clf', SVC(random_state=42))\n",
    "])\n",
    "# Train the Logistic Regression pipeline\n",
    "pipeline_lr.fit(X_train, y_train)\n",
    "\n",
    "# Train the Random Forest pipeline\n",
    "pipeline_rf.fit(X_train, y_train)\n",
    "\n",
    "# Train the Support Vector Machine pipeline\n",
    "pipeline_svc.fit(X_train, y_train)\n",
    "# Define the parameter grid for GridSearchCV\n",
    "param_grid = {\n",
    "    \"clf__n_estimators\": [25, 50, 75, 100, 200],\n",
    "    \"clf__min_samples_split\": [2, 3, 4, 5, 10],\n",
    "    \"clf__max_depth\": [3, 6, 12, 24, 50]\n",
    "    }"
   ]
  },
  {
   "cell_type": "code",
   "execution_count": 51,
   "metadata": {},
   "outputs": [
    {
     "name": "stdout",
     "output_type": "stream",
     "text": [
      "GridSearchCV Best parameters: {'clf__max_depth': 3, 'clf__min_samples_split': 2, 'clf__n_estimators': 100}\n",
      "GridSearchCV Best cross-validation score: 0.713\n"
     ]
    }
   ],
   "source": [
    "# Create GridSearchCV for tuning hyperparameters\n",
    "grid_search = GridSearchCV(pipeline_rf, param_grid, cv=5, verbose=0)\n",
    "grid_search.fit(X, y)\n",
    "print(f\"GridSearchCV Best parameters: {grid_search.best_params_}\")\n",
    "print(f\"GridSearchCV Best cross-validation score: {grid_search.best_score_:.3f}\")"
   ]
  },
  {
   "cell_type": "code",
   "execution_count": 52,
   "metadata": {},
   "outputs": [
    {
     "name": "stdout",
     "output_type": "stream",
     "text": [
      "Pipeline(steps=[('scaler', StandardScaler()),\n",
      "                ('clf', LogisticRegression(random_state=42))])\n",
      "[0.72173913 0.71521739 0.73043478 0.69130435 0.69716776]\n",
      "Avg. accuracy:  0.7111726816330397\n",
      "Pipeline(steps=[('scaler', StandardScaler()),\n",
      "                ('clf', RandomForestClassifier(random_state=42))])\n",
      "[0.70217391 0.65434783 0.69782609 0.65869565 0.67538126]\n",
      "Avg. accuracy:  0.6776849483754854\n",
      "Pipeline(steps=[('scaler', StandardScaler()), ('clf', SVC(random_state=42))])\n",
      "[0.73043478 0.68478261 0.71304348 0.67608696 0.70152505]\n",
      "Avg. accuracy:  0.7011745761106374\n"
     ]
    }
   ],
   "source": [
    "from sklearn.model_selection import (\n",
    "    cross_val_score, KFold, StratifiedKFold, LeaveOneOut\n",
    ")\n",
    "\n",
    "models = [pipeline_lr, pipeline_rf, pipeline_svc]\n",
    "\n",
    "kf = StratifiedKFold(n_splits=5, shuffle=True, random_state=42)\n",
    "for model in models:\n",
    "    kfold_scores = cross_val_score(model, X, y, cv=kf)\n",
    "    print(str(model))\n",
    "    print(kfold_scores)\n",
    "    print(\"Avg. accuracy: \",np.mean(kfold_scores))"
   ]
  },
  {
   "cell_type": "code",
   "execution_count": 53,
   "metadata": {},
   "outputs": [
    {
     "name": "stdout",
     "output_type": "stream",
     "text": [
      "Logistic Regression Accuracy: 0.7\n",
      "Random Forest Accuracy: 0.6884057971014492\n",
      "Support Vector Machine Accuracy: 0.6971014492753623\n"
     ]
    }
   ],
   "source": [
    "# Evaluate the Logistic Regression pipeline\n",
    "lr_pred = pipeline_lr.predict(X_test)\n",
    "print(f\"Logistic Regression Accuracy: {accuracy_score(y_test, lr_pred)}\")\n",
    "\n",
    "# Evaluate the Random Forest pipeline\n",
    "rf_pred = pipeline_rf.predict(X_test)\n",
    "print(f\"Random Forest Accuracy: {accuracy_score(y_test, rf_pred)}\")\n",
    "\n",
    "# Evaluate the Support Vector Machine pipeline\n",
    "svc_pred = pipeline_svc.predict(X_test)\n",
    "print(f\"Support Vector Machine Accuracy: {accuracy_score(y_test, svc_pred)}\")"
   ]
  },
  {
   "cell_type": "code",
   "execution_count": 54,
   "metadata": {},
   "outputs": [
    {
     "name": "stdout",
     "output_type": "stream",
     "text": [
      "The best-performing model is: Logistic Regression with an accuracy of 0.70\n"
     ]
    }
   ],
   "source": [
    "# Compare accuracy scores\n",
    "acc_lr = accuracy_score(y_test, lr_pred)\n",
    "acc_rf = accuracy_score(y_test, rf_pred)\n",
    "acc_svc = accuracy_score(y_test, svc_pred)\n",
    "\n",
    "# Determine the best-performing model\n",
    "best_acc = max(acc_lr, acc_rf, acc_svc)\n",
    "best_model = ['Logistic Regression', 'Random Forest', 'SVC'][[acc_lr, acc_rf, acc_svc].index(best_acc)]\n",
    "\n",
    "print(f\"The best-performing model is: {best_model} with an accuracy of {best_acc:.2f}\")"
   ]
  },
  {
   "cell_type": "code",
   "execution_count": 55,
   "metadata": {},
   "outputs": [
    {
     "name": "stdout",
     "output_type": "stream",
     "text": [
      "Requirement already satisfied: plotly in /Library/Frameworks/Python.framework/Versions/3.11/lib/python3.11/site-packages (5.18.0)\n",
      "Requirement already satisfied: tenacity>=6.2.0 in /Library/Frameworks/Python.framework/Versions/3.11/lib/python3.11/site-packages (from plotly) (8.2.3)\n",
      "Requirement already satisfied: packaging in /Users/braverun/Library/Python/3.11/lib/python/site-packages (from plotly) (23.2)\n",
      "Requirement already satisfied: numpy in /Library/Frameworks/Python.framework/Versions/3.11/lib/python3.11/site-packages (1.26.2)\n"
     ]
    }
   ],
   "source": [
    "!pip3 install plotly\n",
    "!pip3 install numpy"
   ]
  },
  {
   "cell_type": "code",
   "execution_count": 56,
   "metadata": {},
   "outputs": [],
   "source": [
    "import pandas as pd\n",
    "import numpy as np\n",
    "from sklearn.model_selection import train_test_split\n",
    "from sklearn.preprocessing import LabelEncoder\n",
    "from sklearn.tree import DecisionTreeClassifier\n",
    "from sklearn.ensemble import RandomForestClassifier, GradientBoostingClassifier, AdaBoostClassifier\n",
    "from sklearn.metrics import classification_report, accuracy_score, roc_curve, auc\n",
    "import matplotlib.pyplot as plt\n",
    "import plotly.express as px\n",
    "import seaborn as sns"
   ]
  },
  {
   "cell_type": "code",
   "execution_count": 57,
   "metadata": {},
   "outputs": [],
   "source": [
    "classifiers = {\n",
    "    \"Decision Tree\": DecisionTreeClassifier(),\n",
    "    \"Random Forest\": RandomForestClassifier(),\n",
    "    \"Gradient Boosting\": GradientBoostingClassifier(),\n",
    "    \"AdaBoost\": AdaBoostClassifier(),\n",
    "    \"LogisticRegression\": LogisticRegression()\n",
    "}\n",
    "\n"
   ]
  },
  {
   "cell_type": "code",
   "execution_count": 58,
   "metadata": {},
   "outputs": [
    {
     "name": "stderr",
     "output_type": "stream",
     "text": [
      "/Library/Frameworks/Python.framework/Versions/3.11/lib/python3.11/site-packages/sklearn/metrics/_classification.py:1471: UndefinedMetricWarning: Precision and F-score are ill-defined and being set to 0.0 in labels with no predicted samples. Use `zero_division` parameter to control this behavior.\n",
      "  _warn_prf(average, modifier, msg_start, len(result))\n",
      "/Library/Frameworks/Python.framework/Versions/3.11/lib/python3.11/site-packages/sklearn/metrics/_classification.py:1471: UndefinedMetricWarning: Precision and F-score are ill-defined and being set to 0.0 in labels with no predicted samples. Use `zero_division` parameter to control this behavior.\n",
      "  _warn_prf(average, modifier, msg_start, len(result))\n",
      "/Library/Frameworks/Python.framework/Versions/3.11/lib/python3.11/site-packages/sklearn/metrics/_classification.py:1471: UndefinedMetricWarning: Precision and F-score are ill-defined and being set to 0.0 in labels with no predicted samples. Use `zero_division` parameter to control this behavior.\n",
      "  _warn_prf(average, modifier, msg_start, len(result))\n"
     ]
    }
   ],
   "source": [
    "results = []\n",
    "\n",
    "# Train and evaluate classifiers\n",
    "for name, clf in classifiers.items():\n",
    "    clf.fit(X_train, y_train)\n",
    "    y_pred = clf.predict(X_test)\n",
    "    accuracy = accuracy_score(y_test, y_pred)\n",
    "    report = classification_report(y_test, y_pred)\n",
    "    \n",
    "    fpr, tpr, _ = roc_curve(y_test, clf.predict_proba(X_test)[:, 1])\n",
    "    roc_auc = auc(fpr, tpr)\n",
    "    \n",
    "    results.append({\n",
    "        \"Classifier\": name,\n",
    "        \"Accuracy\": accuracy,\n",
    "        \"Classification Report\": report,\n",
    "        \"FPR\": fpr,\n",
    "        \"TPR\": tpr,\n",
    "        \"AUC\": roc_auc\n",
    "    })"
   ]
  },
  {
   "cell_type": "code",
   "execution_count": 59,
   "metadata": {},
   "outputs": [
    {
     "data": {
      "image/png": "[encoded data removed]",
      "text/plain": [
       "<Figure size 1000x600 with 1 Axes>"
      ]
     },
     "metadata": {},
     "output_type": "display_data"
    }
   ],
   "source": [
    "# Plot ROC curves\n",
    "plt.figure(figsize=(10, 6))\n",
    "for result in results:\n",
    "    plt.plot(result['FPR'], result['TPR'], label=f\"{result['Classifier']} (AUC = {result['AUC']:.2f})\")\n",
    "\n",
    "plt.plot([0, 1], [0, 1], linestyle='--', color='gray')\n",
    "plt.xlabel('False Positive Rate')\n",
    "plt.ylabel('True Positive Rate')\n",
    "plt.title('Receiver Operating Characteristic (ROC)')\n",
    "plt.legend(loc='lower right')\n",
    "plt.show()"
   ]
  },
  {
   "cell_type": "code",
   "execution_count": 60,
   "metadata": {},
   "outputs": [
    {
     "name": "stdout",
     "output_type": "stream",
     "text": [
      "Requirement already satisfied: nbformat in /Library/Frameworks/Python.framework/Versions/3.11/lib/python3.11/site-packages (5.9.2)\n",
      "Requirement already satisfied: fastjsonschema in /Library/Frameworks/Python.framework/Versions/3.11/lib/python3.11/site-packages (from nbformat) (2.19.0)\n",
      "Requirement already satisfied: jsonschema>=2.6 in /Library/Frameworks/Python.framework/Versions/3.11/lib/python3.11/site-packages (from nbformat) (4.20.0)\n",
      "Requirement already satisfied: jupyter-core in /Users/braverun/Library/Python/3.11/lib/python/site-packages (from nbformat) (5.5.0)\n",
      "Requirement already satisfied: traitlets>=5.1 in /Users/braverun/Library/Python/3.11/lib/python/site-packages (from nbformat) (5.13.0)\n",
      "Requirement already satisfied: attrs>=22.2.0 in /Library/Frameworks/Python.framework/Versions/3.11/lib/python3.11/site-packages (from jsonschema>=2.6->nbformat) (23.1.0)\n",
      "Requirement already satisfied: jsonschema-specifications>=2023.03.6 in /Library/Frameworks/Python.framework/Versions/3.11/lib/python3.11/site-packages (from jsonschema>=2.6->nbformat) (2023.11.1)\n",
      "Requirement already satisfied: referencing>=0.28.4 in /Library/Frameworks/Python.framework/Versions/3.11/lib/python3.11/site-packages (from jsonschema>=2.6->nbformat) (0.31.0)\n",
      "Requirement already satisfied: rpds-py>=0.7.1 in /Library/Frameworks/Python.framework/Versions/3.11/lib/python3.11/site-packages (from jsonschema>=2.6->nbformat) (0.13.1)\n",
      "Requirement already satisfied: platformdirs>=2.5 in /Users/braverun/Library/Python/3.11/lib/python/site-packages (from jupyter-core->nbformat) (4.0.0)\n"
     ]
    }
   ],
   "source": [
    "!pip3 install nbformat"
   ]
  },
  {
   "cell_type": "code",
   "execution_count": 61,
   "metadata": {},
   "outputs": [
    {
     "data": {
      "application/vnd.plotly.v1+json": {
       "config": {
        "plotlyServerURL": "https://plot.ly"
       },
       "data": [
        {
         "alignmentgroup": "True",
         "hovertemplate": "Classifier=%{x}<br>Accuracy=%{text}<extra></extra>",
         "legendgroup": "",
         "marker": {
          "color": "#636efa",
          "pattern": {
           "shape": ""
          }
         },
         "name": "",
         "offsetgroup": "",
         "orientation": "v",
         "showlegend": false,
         "text": [
          0.6144927536231884,
          0.6840579710144927,
          0.7014492753623188,
          0.7057971014492753,
          0.5391304347826087
         ],
         "textposition": "outside",
         "texttemplate": "%{text:.2%}",
         "type": "bar",
         "x": [
          "Decision Tree",
          "Random Forest",
          "Gradient Boosting",
          "AdaBoost",
          "LogisticRegression"
         ],
         "xaxis": "x",
         "y": [
          0.6144927536231884,
          0.6840579710144927,
          0.7014492753623188,
          0.7057971014492753,
          0.5391304347826087
         ],
         "yaxis": "y"
        }
       ],
       "layout": {
        "barmode": "relative",
        "legend": {
         "tracegroupgap": 0
        },
        "template": {
         "data": {
          "bar": [
           {
            "error_x": {
             "color": "#2a3f5f"
            },
            "error_y": {
             "color": "#2a3f5f"
            },
            "marker": {
             "line": {
              "color": "#E5ECF6",
              "width": 0.5
             },
             "pattern": {
              "fillmode": "overlay",
              "size": 10,
              "solidity": 0.2
             }
            },
            "type": "bar"
           }
          ],
          "barpolar": [
           {
            "marker": {
             "line": {
              "color": "#E5ECF6",
              "width": 0.5
             },
             "pattern": {
              "fillmode": "overlay",
              "size": 10,
              "solidity": 0.2
             }
            },
            "type": "barpolar"
           }
          ],
          "carpet": [
           {
            "aaxis": {
             "endlinecolor": "#2a3f5f",
             "gridcolor": "white",
             "linecolor": "white",
             "minorgridcolor": "white",
             "startlinecolor": "#2a3f5f"
            },
            "baxis": {
             "endlinecolor": "#2a3f5f",
             "gridcolor": "white",
             "linecolor": "white",
             "minorgridcolor": "white",
             "startlinecolor": "#2a3f5f"
            },
            "type": "carpet"
           }
          ],
          "choropleth": [
           {
            "colorbar": {
             "outlinewidth": 0,
             "ticks": ""
            },
            "type": "choropleth"
           }
          ],
          "contour": [
           {
            "colorbar": {
             "outlinewidth": 0,
             "ticks": ""
            },
            "colorscale": [
             [
              0,
              "#0d0887"
             ],
             [
              0.1111111111111111,
              "#46039f"
             ],
             [
              0.2222222222222222,
              "#7201a8"
             ],
             [
              0.3333333333333333,
              "#9c179e"
             ],
             [
              0.4444444444444444,
              "#bd3786"
             ],
             [
              0.5555555555555556,
              "#d8576b"
             ],
             [
              0.6666666666666666,
              "#ed7953"
             ],
             [
              0.7777777777777778,
              "#fb9f3a"
             ],
             [
              0.8888888888888888,
              "#fdca26"
             ],
             [
              1,
              "#f0f921"
             ]
            ],
            "type": "contour"
           }
          ],
          "contourcarpet": [
           {
            "colorbar": {
             "outlinewidth": 0,
             "ticks": ""
            },
            "type": "contourcarpet"
           }
          ],
          "heatmap": [
           {
            "colorbar": {
             "outlinewidth": 0,
             "ticks": ""
            },
            "colorscale": [
             [
              0,
              "#0d0887"
             ],
             [
              0.1111111111111111,
              "#46039f"
             ],
             [
              0.2222222222222222,
              "#7201a8"
             ],
             [
              0.3333333333333333,
              "#9c179e"
             ],
             [
              0.4444444444444444,
              "#bd3786"
             ],
             [
              0.5555555555555556,
              "#d8576b"
             ],
             [
              0.6666666666666666,
              "#ed7953"
             ],
             [
              0.7777777777777778,
              "#fb9f3a"
             ],
             [
              0.8888888888888888,
              "#fdca26"
             ],
             [
              1,
              "#f0f921"
             ]
            ],
            "type": "heatmap"
           }
          ],
          "heatmapgl": [
           {
            "colorbar": {
             "outlinewidth": 0,
             "ticks": ""
            },
            "colorscale": [
             [
              0,
              "#0d0887"
             ],
             [
              0.1111111111111111,
              "#46039f"
             ],
             [
              0.2222222222222222,
              "#7201a8"
             ],
             [
              0.3333333333333333,
              "#9c179e"
             ],
             [
              0.4444444444444444,
              "#bd3786"
             ],
             [
              0.5555555555555556,
              "#d8576b"
             ],
             [
              0.6666666666666666,
              "#ed7953"
             ],
             [
              0.7777777777777778,
              "#fb9f3a"
             ],
             [
              0.8888888888888888,
              "#fdca26"
             ],
             [
              1,
              "#f0f921"
             ]
            ],
            "type": "heatmapgl"
           }
          ],
          "histogram": [
           {
            "marker": {
             "pattern": {
              "fillmode": "overlay",
              "size": 10,
              "solidity": 0.2
             }
            },
            "type": "histogram"
           }
          ],
          "histogram2d": [
           {
            "colorbar": {
             "outlinewidth": 0,
             "ticks": ""
            },
            "colorscale": [
             [
              0,
              "#0d0887"
             ],
             [
              0.1111111111111111,
              "#46039f"
             ],
             [
              0.2222222222222222,
              "#7201a8"
             ],
             [
              0.3333333333333333,
              "#9c179e"
             ],
             [
              0.4444444444444444,
              "#bd3786"
             ],
             [
              0.5555555555555556,
              "#d8576b"
             ],
             [
              0.6666666666666666,
              "#ed7953"
             ],
             [
              0.7777777777777778,
              "#fb9f3a"
             ],
             [
              0.8888888888888888,
              "#fdca26"
             ],
             [
              1,
              "#f0f921"
             ]
            ],
            "type": "histogram2d"
           }
          ],
          "histogram2dcontour": [
           {
            "colorbar": {
             "outlinewidth": 0,
             "ticks": ""
            },
            "colorscale": [
             [
              0,
              "#0d0887"
             ],
             [
              0.1111111111111111,
              "#46039f"
             ],
             [
              0.2222222222222222,
              "#7201a8"
             ],
             [
              0.3333333333333333,
              "#9c179e"
             ],
             [
              0.4444444444444444,
              "#bd3786"
             ],
             [
              0.5555555555555556,
              "#d8576b"
             ],
             [
              0.6666666666666666,
              "#ed7953"
             ],
             [
              0.7777777777777778,
              "#fb9f3a"
             ],
             [
              0.8888888888888888,
              "#fdca26"
             ],
             [
              1,
              "#f0f921"
             ]
            ],
            "type": "histogram2dcontour"
           }
          ],
          "mesh3d": [
           {
            "colorbar": {
             "outlinewidth": 0,
             "ticks": ""
            },
            "type": "mesh3d"
           }
          ],
          "parcoords": [
           {
            "line": {
             "colorbar": {
              "outlinewidth": 0,
              "ticks": ""
             }
            },
            "type": "parcoords"
           }
          ],
          "pie": [
           {
            "automargin": true,
            "type": "pie"
           }
          ],
          "scatter": [
           {
            "fillpattern": {
             "fillmode": "overlay",
             "size": 10,
             "solidity": 0.2
            },
            "type": "scatter"
           }
          ],
          "scatter3d": [
           {
            "line": {
             "colorbar": {
              "outlinewidth": 0,
              "ticks": ""
             }
            },
            "marker": {
             "colorbar": {
              "outlinewidth": 0,
              "ticks": ""
             }
            },
            "type": "scatter3d"
           }
          ],
          "scattercarpet": [
           {
            "marker": {
             "colorbar": {
              "outlinewidth": 0,
              "ticks": ""
             }
            },
            "type": "scattercarpet"
           }
          ],
          "scattergeo": [
           {
            "marker": {
             "colorbar": {
              "outlinewidth": 0,
              "ticks": ""
             }
            },
            "type": "scattergeo"
           }
          ],
          "scattergl": [
           {
            "marker": {
             "colorbar": {
              "outlinewidth": 0,
              "ticks": ""
             }
            },
            "type": "scattergl"
           }
          ],
          "scattermapbox": [
           {
            "marker": {
             "colorbar": {
              "outlinewidth": 0,
              "ticks": ""
             }
            },
            "type": "scattermapbox"
           }
          ],
          "scatterpolar": [
           {
            "marker": {
             "colorbar": {
              "outlinewidth": 0,
              "ticks": ""
             }
            },
            "type": "scatterpolar"
           }
          ],
          "scatterpolargl": [
           {
            "marker": {
             "colorbar": {
              "outlinewidth": 0,
              "ticks": ""
             }
            },
            "type": "scatterpolargl"
           }
          ],
          "scatterternary": [
           {
            "marker": {
             "colorbar": {
              "outlinewidth": 0,
              "ticks": ""
             }
            },
            "type": "scatterternary"
           }
          ],
          "surface": [
           {
            "colorbar": {
             "outlinewidth": 0,
             "ticks": ""
            },
            "colorscale": [
             [
              0,
              "#0d0887"
             ],
             [
              0.1111111111111111,
              "#46039f"
             ],
             [
              0.2222222222222222,
              "#7201a8"
             ],
             [
              0.3333333333333333,
              "#9c179e"
             ],
             [
              0.4444444444444444,
              "#bd3786"
             ],
             [
              0.5555555555555556,
              "#d8576b"
             ],
             [
              0.6666666666666666,
              "#ed7953"
             ],
             [
              0.7777777777777778,
              "#fb9f3a"
             ],
             [
              0.8888888888888888,
              "#fdca26"
             ],
             [
              1,
              "#f0f921"
             ]
            ],
            "type": "surface"
           }
          ],
          "table": [
           {
            "cells": {
             "fill": {
              "color": "#EBF0F8"
             },
             "line": {
              "color": "white"
             }
            },
            "header": {
             "fill": {
              "color": "#C8D4E3"
             },
             "line": {
              "color": "white"
             }
            },
            "type": "table"
           }
          ]
         },
         "layout": {
          "annotationdefaults": {
           "arrowcolor": "#2a3f5f",
           "arrowhead": 0,
           "arrowwidth": 1
          },
          "autotypenumbers": "strict",
          "coloraxis": {
           "colorbar": {
            "outlinewidth": 0,
            "ticks": ""
           }
          },
          "colorscale": {
           "diverging": [
            [
             0,
             "#8e0152"
            ],
            [
             0.1,
             "#c51b7d"
            ],
            [
             0.2,
             "#de77ae"
            ],
            [
             0.3,
             "#f1b6da"
            ],
            [
             0.4,
             "#fde0ef"
            ],
            [
             0.5,
             "#f7f7f7"
            ],
            [
             0.6,
             "#e6f5d0"
            ],
            [
             0.7,
             "#b8e186"
            ],
            [
             0.8,
             "#7fbc41"
            ],
            [
             0.9,
             "#4d9221"
            ],
            [
             1,
             "#276419"
            ]
           ],
           "sequential": [
            [
             0,
             "#0d0887"
            ],
            [
             0.1111111111111111,
             "#46039f"
            ],
            [
             0.2222222222222222,
             "#7201a8"
            ],
            [
             0.3333333333333333,
             "#9c179e"
            ],
            [
             0.4444444444444444,
             "#bd3786"
            ],
            [
             0.5555555555555556,
             "#d8576b"
            ],
            [
             0.6666666666666666,
             "#ed7953"
            ],
            [
             0.7777777777777778,
             "#fb9f3a"
            ],
            [
             0.8888888888888888,
             "#fdca26"
            ],
            [
             1,
             "#f0f921"
            ]
           ],
           "sequentialminus": [
            [
             0,
             "#0d0887"
            ],
            [
             0.1111111111111111,
             "#46039f"
            ],
            [
             0.2222222222222222,
             "#7201a8"
            ],
            [
             0.3333333333333333,
             "#9c179e"
            ],
            [
             0.4444444444444444,
             "#bd3786"
            ],
            [
             0.5555555555555556,
             "#d8576b"
            ],
            [
             0.6666666666666666,
             "#ed7953"
            ],
            [
             0.7777777777777778,
             "#fb9f3a"
            ],
            [
             0.8888888888888888,
             "#fdca26"
            ],
            [
             1,
             "#f0f921"
            ]
           ]
          },
          "colorway": [
           "#636efa",
           "#EF553B",
           "#00cc96",
           "#ab63fa",
           "#FFA15A",
           "#19d3f3",
           "#FF6692",
           "#B6E880",
           "#FF97FF",
           "#FECB52"
          ],
          "font": {
           "color": "#2a3f5f"
          },
          "geo": {
           "bgcolor": "white",
           "lakecolor": "white",
           "landcolor": "#E5ECF6",
           "showlakes": true,
           "showland": true,
           "subunitcolor": "white"
          },
          "hoverlabel": {
           "align": "left"
          },
          "hovermode": "closest",
          "mapbox": {
           "style": "light"
          },
          "paper_bgcolor": "white",
          "plot_bgcolor": "#E5ECF6",
          "polar": {
           "angularaxis": {
            "gridcolor": "white",
            "linecolor": "white",
            "ticks": ""
           },
           "bgcolor": "#E5ECF6",
           "radialaxis": {
            "gridcolor": "white",
            "linecolor": "white",
            "ticks": ""
           }
          },
          "scene": {
           "xaxis": {
            "backgroundcolor": "#E5ECF6",
            "gridcolor": "white",
            "gridwidth": 2,
            "linecolor": "white",
            "showbackground": true,
            "ticks": "",
            "zerolinecolor": "white"
           },
           "yaxis": {
            "backgroundcolor": "#E5ECF6",
            "gridcolor": "white",
            "gridwidth": 2,
            "linecolor": "white",
            "showbackground": true,
            "ticks": "",
            "zerolinecolor": "white"
           },
           "zaxis": {
            "backgroundcolor": "#E5ECF6",
            "gridcolor": "white",
            "gridwidth": 2,
            "linecolor": "white",
            "showbackground": true,
            "ticks": "",
            "zerolinecolor": "white"
           }
          },
          "shapedefaults": {
           "line": {
            "color": "#2a3f5f"
           }
          },
          "ternary": {
           "aaxis": {
            "gridcolor": "white",
            "linecolor": "white",
            "ticks": ""
           },
           "baxis": {
            "gridcolor": "white",
            "linecolor": "white",
            "ticks": ""
           },
           "bgcolor": "#E5ECF6",
           "caxis": {
            "gridcolor": "white",
            "linecolor": "white",
            "ticks": ""
           }
          },
          "title": {
           "x": 0.05
          },
          "xaxis": {
           "automargin": true,
           "gridcolor": "white",
           "linecolor": "white",
           "ticks": "",
           "title": {
            "standoff": 15
           },
           "zerolinecolor": "white",
           "zerolinewidth": 2
          },
          "yaxis": {
           "automargin": true,
           "gridcolor": "white",
           "linecolor": "white",
           "ticks": "",
           "title": {
            "standoff": 15
           },
           "zerolinecolor": "white",
           "zerolinewidth": 2
          }
         }
        },
        "title": {
         "text": "Classifier Accuracy Comparison"
        },
        "xaxis": {
         "anchor": "y",
         "domain": [
          0,
          1
         ],
         "title": {
          "text": "Classifier"
         }
        },
        "yaxis": {
         "anchor": "x",
         "domain": [
          0,
          1
         ],
         "title": {
          "text": "Accuracy"
         }
        }
       }
      }
     },
     "metadata": {},
     "output_type": "display_data"
    }
   ],
   "source": [
    "# Create a bar chart comparing accuracy\n",
    "accuracy_df = pd.DataFrame(results)\n",
    "fig = px.bar(accuracy_df, x='Classifier', y='Accuracy', text='Accuracy', title='Classifier Accuracy Comparison')\n",
    "fig.update_traces(texttemplate='%{text:.2%}', textposition='outside')\n",
    "fig.show()"
   ]
  },
  {
   "cell_type": "code",
   "execution_count": 62,
   "metadata": {},
   "outputs": [],
   "source": [
    "from sklearn.tree import DecisionTreeClassifier\n",
    "tree = DecisionTreeClassifier(\n",
    "          max_depth=1,\n",
    "          random_state=42)\n",
    "\n",
    "tree = tree.fit(X_train, y_train)\n",
    "y_train_pred = tree.predict(X_train)\n",
    "y_test_pred = tree.predict(X_test)\n"
   ]
  },
  {
   "cell_type": "code",
   "execution_count": 63,
   "metadata": {},
   "outputs": [],
   "source": [
    "from sklearn.metrics import accuracy_score\n",
    "tree_train = accuracy_score(y_train, y_train_pred)\n",
    "tree_test = accuracy_score(y_test, y_test_pred)\n"
   ]
  },
  {
   "cell_type": "code",
   "execution_count": 64,
   "metadata": {},
   "outputs": [],
   "source": [
    "ada = AdaBoostClassifier(\n",
    "    base_estimator=tree,\n",
    "    n_estimators=125,\n",
    "    learning_rate=0.5,\n",
    "    random_state=42)"
   ]
  },
  {
   "cell_type": "code",
   "execution_count": 65,
   "metadata": {},
   "outputs": [
    {
     "name": "stderr",
     "output_type": "stream",
     "text": [
      "/Library/Frameworks/Python.framework/Versions/3.11/lib/python3.11/site-packages/sklearn/ensemble/_base.py:156: FutureWarning:\n",
      "\n",
      "`base_estimator` was renamed to `estimator` in version 1.2 and will be removed in 1.4.\n",
      "\n"
     ]
    }
   ],
   "source": [
    "ada = ada.fit(X_train, y_train)\n",
    "y_train_pred = ada.predict(X_train)\n",
    "y_test_pred = ada.predict(X_test)\n",
    "ada_train = accuracy_score(y_train, y_train_pred)\n",
    "ada_test = accuracy_score(y_test, y_test_pred)\n"
   ]
  },
  {
   "cell_type": "code",
   "execution_count": 66,
   "metadata": {},
   "outputs": [
    {
     "name": "stdout",
     "output_type": "stream",
     "text": [
      "Adaboost train/test accuracies: 0.728/0.714\n"
     ]
    }
   ],
   "source": [
    "print(f'Adaboost train/test accuracies: {ada_train:.3f}/{ada_test:.3f}')\n"
   ]
  },
  {
   "cell_type": "code",
   "execution_count": 67,
   "metadata": {},
   "outputs": [
    {
     "data": {
      "text/html": [
       "<div>\n",
       "<style scoped>\n",
       "    .dataframe tbody tr th:only-of-type {\n",
       "        vertical-align: middle;\n",
       "    }\n",
       "\n",
       "    .dataframe tbody tr th {\n",
       "        vertical-align: top;\n",
       "    }\n",
       "\n",
       "    .dataframe thead th {\n",
       "        text-align: right;\n",
       "    }\n",
       "</style>\n",
       "<table border=\"1\" class=\"dataframe\">\n",
       "  <thead>\n",
       "    <tr style=\"text-align: right;\">\n",
       "      <th></th>\n",
       "      <th>client_id</th>\n",
       "      <th>average_balance</th>\n",
       "      <th>has_deposits</th>\n",
       "      <th>loan</th>\n",
       "      <th>has_insurance</th>\n",
       "      <th>has_mortgage</th>\n",
       "      <th>age</th>\n",
       "      <th>gender</th>\n",
       "      <th>marital_divorced</th>\n",
       "      <th>marital_married</th>\n",
       "      <th>marital_single</th>\n",
       "      <th>education_primary</th>\n",
       "      <th>education_secondary</th>\n",
       "      <th>education_tertiary</th>\n",
       "      <th>education_unknown</th>\n",
       "    </tr>\n",
       "  </thead>\n",
       "  <tbody>\n",
       "    <tr>\n",
       "      <th>2299</th>\n",
       "      <td>100070076</td>\n",
       "      <td>214.655340</td>\n",
       "      <td>0</td>\n",
       "      <td>0</td>\n",
       "      <td>0</td>\n",
       "      <td>0</td>\n",
       "      <td>41</td>\n",
       "      <td>1</td>\n",
       "      <td>True</td>\n",
       "      <td>False</td>\n",
       "      <td>False</td>\n",
       "      <td>False</td>\n",
       "      <td>False</td>\n",
       "      <td>True</td>\n",
       "      <td>False</td>\n",
       "    </tr>\n",
       "    <tr>\n",
       "      <th>2300</th>\n",
       "      <td>100141910</td>\n",
       "      <td>2533.575687</td>\n",
       "      <td>0</td>\n",
       "      <td>0</td>\n",
       "      <td>0</td>\n",
       "      <td>1</td>\n",
       "      <td>34</td>\n",
       "      <td>0</td>\n",
       "      <td>False</td>\n",
       "      <td>False</td>\n",
       "      <td>True</td>\n",
       "      <td>False</td>\n",
       "      <td>False</td>\n",
       "      <td>True</td>\n",
       "      <td>False</td>\n",
       "    </tr>\n",
       "    <tr>\n",
       "      <th>2301</th>\n",
       "      <td>100207570</td>\n",
       "      <td>-10.465497</td>\n",
       "      <td>1</td>\n",
       "      <td>0</td>\n",
       "      <td>0</td>\n",
       "      <td>0</td>\n",
       "      <td>34</td>\n",
       "      <td>0</td>\n",
       "      <td>False</td>\n",
       "      <td>False</td>\n",
       "      <td>True</td>\n",
       "      <td>False</td>\n",
       "      <td>False</td>\n",
       "      <td>True</td>\n",
       "      <td>False</td>\n",
       "    </tr>\n",
       "    <tr>\n",
       "      <th>2302</th>\n",
       "      <td>100646594</td>\n",
       "      <td>37140.331804</td>\n",
       "      <td>0</td>\n",
       "      <td>0</td>\n",
       "      <td>0</td>\n",
       "      <td>0</td>\n",
       "      <td>75</td>\n",
       "      <td>0</td>\n",
       "      <td>True</td>\n",
       "      <td>False</td>\n",
       "      <td>False</td>\n",
       "      <td>True</td>\n",
       "      <td>False</td>\n",
       "      <td>False</td>\n",
       "      <td>False</td>\n",
       "    </tr>\n",
       "    <tr>\n",
       "      <th>2303</th>\n",
       "      <td>100741497</td>\n",
       "      <td>226.957688</td>\n",
       "      <td>0</td>\n",
       "      <td>0</td>\n",
       "      <td>0</td>\n",
       "      <td>1</td>\n",
       "      <td>56</td>\n",
       "      <td>1</td>\n",
       "      <td>False</td>\n",
       "      <td>True</td>\n",
       "      <td>False</td>\n",
       "      <td>False</td>\n",
       "      <td>True</td>\n",
       "      <td>False</td>\n",
       "      <td>False</td>\n",
       "    </tr>\n",
       "    <tr>\n",
       "      <th>...</th>\n",
       "      <td>...</td>\n",
       "      <td>...</td>\n",
       "      <td>...</td>\n",
       "      <td>...</td>\n",
       "      <td>...</td>\n",
       "      <td>...</td>\n",
       "      <td>...</td>\n",
       "      <td>...</td>\n",
       "      <td>...</td>\n",
       "      <td>...</td>\n",
       "      <td>...</td>\n",
       "      <td>...</td>\n",
       "      <td>...</td>\n",
       "      <td>...</td>\n",
       "      <td>...</td>\n",
       "    </tr>\n",
       "    <tr>\n",
       "      <th>11157</th>\n",
       "      <td>1999460711</td>\n",
       "      <td>205.463959</td>\n",
       "      <td>0</td>\n",
       "      <td>1</td>\n",
       "      <td>0</td>\n",
       "      <td>1</td>\n",
       "      <td>53</td>\n",
       "      <td>1</td>\n",
       "      <td>True</td>\n",
       "      <td>False</td>\n",
       "      <td>False</td>\n",
       "      <td>False</td>\n",
       "      <td>True</td>\n",
       "      <td>False</td>\n",
       "      <td>False</td>\n",
       "    </tr>\n",
       "    <tr>\n",
       "      <th>11158</th>\n",
       "      <td>1999463182</td>\n",
       "      <td>1241.009897</td>\n",
       "      <td>0</td>\n",
       "      <td>0</td>\n",
       "      <td>0</td>\n",
       "      <td>1</td>\n",
       "      <td>34</td>\n",
       "      <td>1</td>\n",
       "      <td>False</td>\n",
       "      <td>True</td>\n",
       "      <td>False</td>\n",
       "      <td>False</td>\n",
       "      <td>True</td>\n",
       "      <td>False</td>\n",
       "      <td>False</td>\n",
       "    </tr>\n",
       "    <tr>\n",
       "      <th>11159</th>\n",
       "      <td>1999499145</td>\n",
       "      <td>-17.706274</td>\n",
       "      <td>0</td>\n",
       "      <td>0</td>\n",
       "      <td>0</td>\n",
       "      <td>1</td>\n",
       "      <td>31</td>\n",
       "      <td>0</td>\n",
       "      <td>False</td>\n",
       "      <td>False</td>\n",
       "      <td>True</td>\n",
       "      <td>False</td>\n",
       "      <td>False</td>\n",
       "      <td>True</td>\n",
       "      <td>False</td>\n",
       "    </tr>\n",
       "    <tr>\n",
       "      <th>11160</th>\n",
       "      <td>1999715381</td>\n",
       "      <td>703.327991</td>\n",
       "      <td>1</td>\n",
       "      <td>0</td>\n",
       "      <td>0</td>\n",
       "      <td>1</td>\n",
       "      <td>24</td>\n",
       "      <td>1</td>\n",
       "      <td>False</td>\n",
       "      <td>True</td>\n",
       "      <td>False</td>\n",
       "      <td>False</td>\n",
       "      <td>True</td>\n",
       "      <td>False</td>\n",
       "      <td>False</td>\n",
       "    </tr>\n",
       "    <tr>\n",
       "      <th>11161</th>\n",
       "      <td>1999945413</td>\n",
       "      <td>5035.928297</td>\n",
       "      <td>1</td>\n",
       "      <td>0</td>\n",
       "      <td>0</td>\n",
       "      <td>0</td>\n",
       "      <td>39</td>\n",
       "      <td>0</td>\n",
       "      <td>False</td>\n",
       "      <td>False</td>\n",
       "      <td>True</td>\n",
       "      <td>False</td>\n",
       "      <td>False</td>\n",
       "      <td>True</td>\n",
       "      <td>False</td>\n",
       "    </tr>\n",
       "  </tbody>\n",
       "</table>\n",
       "<p>8863 rows × 15 columns</p>\n",
       "</div>"
      ],
      "text/plain": [
       "        client_id  average_balance  has_deposits  loan  has_insurance  \\\n",
       "2299    100070076       214.655340             0     0              0   \n",
       "2300    100141910      2533.575687             0     0              0   \n",
       "2301    100207570       -10.465497             1     0              0   \n",
       "2302    100646594     37140.331804             0     0              0   \n",
       "2303    100741497       226.957688             0     0              0   \n",
       "...           ...              ...           ...   ...            ...   \n",
       "11157  1999460711       205.463959             0     1              0   \n",
       "11158  1999463182      1241.009897             0     0              0   \n",
       "11159  1999499145       -17.706274             0     0              0   \n",
       "11160  1999715381       703.327991             1     0              0   \n",
       "11161  1999945413      5035.928297             1     0              0   \n",
       "\n",
       "       has_mortgage  age  gender  marital_divorced  marital_married  \\\n",
       "2299              0   41       1              True            False   \n",
       "2300              1   34       0             False            False   \n",
       "2301              0   34       0             False            False   \n",
       "2302              0   75       0              True            False   \n",
       "2303              1   56       1             False             True   \n",
       "...             ...  ...     ...               ...              ...   \n",
       "11157             1   53       1              True            False   \n",
       "11158             1   34       1             False             True   \n",
       "11159             1   31       0             False            False   \n",
       "11160             1   24       1             False             True   \n",
       "11161             0   39       0             False            False   \n",
       "\n",
       "       marital_single  education_primary  education_secondary  \\\n",
       "2299            False              False                False   \n",
       "2300             True              False                False   \n",
       "2301             True              False                False   \n",
       "2302            False               True                False   \n",
       "2303            False              False                 True   \n",
       "...               ...                ...                  ...   \n",
       "11157           False              False                 True   \n",
       "11158           False              False                 True   \n",
       "11159            True              False                False   \n",
       "11160           False              False                 True   \n",
       "11161            True              False                False   \n",
       "\n",
       "       education_tertiary  education_unknown  \n",
       "2299                 True              False  \n",
       "2300                 True              False  \n",
       "2301                 True              False  \n",
       "2302                False              False  \n",
       "2303                False              False  \n",
       "...                   ...                ...  \n",
       "11157               False              False  \n",
       "11158               False              False  \n",
       "11159                True              False  \n",
       "11160               False              False  \n",
       "11161                True              False  \n",
       "\n",
       "[8863 rows x 15 columns]"
      ]
     },
     "execution_count": 67,
     "metadata": {},
     "output_type": "execute_result"
    }
   ],
   "source": [
    "to_apply_data = all_customers_encoded[(all_customers_encoded.poutcome.isna())]\n",
    "Non_contacted_customers = to_apply_data.drop(['poutcome'], axis=1)\n",
    "Non_contacted_customers"
   ]
  },
  {
   "cell_type": "code",
   "execution_count": 68,
   "metadata": {},
   "outputs": [
    {
     "data": {
      "text/plain": [
       "(8863, 2)"
      ]
     },
     "execution_count": 68,
     "metadata": {},
     "output_type": "execute_result"
    }
   ],
   "source": [
    "Outcomes = ada.predict_proba(Non_contacted_customers)\n",
    "Outcomes.shape"
   ]
  },
  {
   "cell_type": "code",
   "execution_count": 69,
   "metadata": {},
   "outputs": [],
   "source": [
    "Outcomes_flattened = Outcomes[...,1]"
   ]
  },
  {
   "cell_type": "code",
   "execution_count": 70,
   "metadata": {},
   "outputs": [
    {
     "data": {
      "text/plain": [
       "(8863,)"
      ]
     },
     "execution_count": 70,
     "metadata": {},
     "output_type": "execute_result"
    }
   ],
   "source": [
    "Outcomes_flattened.shape"
   ]
  },
  {
   "cell_type": "code",
   "execution_count": 71,
   "metadata": {},
   "outputs": [],
   "source": [
    "Non_contacted_customers[\"probability\"] = Outcomes_flattened"
   ]
  },
  {
   "cell_type": "code",
   "execution_count": 72,
   "metadata": {},
   "outputs": [
    {
     "data": {
      "text/plain": [
       "8863"
      ]
     },
     "execution_count": 72,
     "metadata": {},
     "output_type": "execute_result"
    }
   ],
   "source": [
    "len(Non_contacted_customers)"
   ]
  },
  {
   "cell_type": "code",
   "execution_count": 85,
   "metadata": {},
   "outputs": [],
   "source": [
    "Non_contacted_customers_sorted = Non_contacted_customers.sort_values('probability', ascending = False)\n",
    "Non_contacted_customers_sorted.head()\n",
    "Non_contacted_customers_with_money = Non_contacted_customers_sorted.drop(Non_contacted_customers_sorted[Non_contacted_customers_sorted['average_balance'] < 0].index)\n",
    "\n",
    "threek_customers = Non_contacted_customers_with_money.head(3000)"
   ]
  },
  {
   "cell_type": "code",
   "execution_count": 93,
   "metadata": {},
   "outputs": [
    {
     "data": {
      "text/plain": [
       "7812"
      ]
     },
     "execution_count": 93,
     "metadata": {},
     "output_type": "execute_result"
    }
   ],
   "source": [
    "len(Non_contacted_customers_with_money)"
   ]
  },
  {
   "cell_type": "code",
   "execution_count": 94,
   "metadata": {},
   "outputs": [
    {
     "data": {
      "text/plain": [
       "array([0.57935697, 0.57927582, 0.57829179, ..., 0.49863397, 0.49862769,\n",
       "       0.49862259])"
      ]
     },
     "execution_count": 94,
     "metadata": {},
     "output_type": "execute_result"
    }
   ],
   "source": [
    "threek_customers.head()\n",
    "threek_customers.probability.unique()"
   ]
  },
  {
   "cell_type": "code",
   "execution_count": null,
   "metadata": {},
   "outputs": [],
   "source": []
  },
  {
   "cell_type": "code",
   "execution_count": 95,
   "metadata": {},
   "outputs": [],
   "source": [
    "customer_target_ids = threek_customers['client_id']"
   ]
  },
  {
   "cell_type": "code",
   "execution_count": 96,
   "metadata": {},
   "outputs": [
    {
     "data": {
      "text/plain": [
       "3880      458110879\n",
       "10918    1951922656\n",
       "4618      618893370\n",
       "8516     1441287851\n",
       "3883      458435302\n",
       "Name: client_id, dtype: int64"
      ]
     },
     "execution_count": 96,
     "metadata": {},
     "output_type": "execute_result"
    }
   ],
   "source": [
    "customer_target_ids.head()"
   ]
  },
  {
   "cell_type": "code",
   "execution_count": 97,
   "metadata": {},
   "outputs": [
    {
     "data": {
      "text/plain": [
       "3000"
      ]
     },
     "execution_count": 97,
     "metadata": {},
     "output_type": "execute_result"
    }
   ],
   "source": [
    "len(customer_target_ids)"
   ]
  },
  {
   "cell_type": "code",
   "execution_count": null,
   "metadata": {},
   "outputs": [],
   "source": []
  },
  {
   "cell_type": "code",
   "execution_count": 98,
   "metadata": {},
   "outputs": [
    {
     "data": {
      "text/html": [
       "<div>\n",
       "<style scoped>\n",
       "    .dataframe tbody tr th:only-of-type {\n",
       "        vertical-align: middle;\n",
       "    }\n",
       "\n",
       "    .dataframe tbody tr th {\n",
       "        vertical-align: top;\n",
       "    }\n",
       "\n",
       "    .dataframe thead th {\n",
       "        text-align: right;\n",
       "    }\n",
       "</style>\n",
       "<table border=\"1\" class=\"dataframe\">\n",
       "  <thead>\n",
       "    <tr style=\"text-align: right;\">\n",
       "      <th></th>\n",
       "      <th>index</th>\n",
       "      <th>client_id</th>\n",
       "    </tr>\n",
       "  </thead>\n",
       "  <tbody>\n",
       "    <tr>\n",
       "      <th>0</th>\n",
       "      <td>3880</td>\n",
       "      <td>458110879</td>\n",
       "    </tr>\n",
       "    <tr>\n",
       "      <th>1</th>\n",
       "      <td>10918</td>\n",
       "      <td>1951922656</td>\n",
       "    </tr>\n",
       "    <tr>\n",
       "      <th>2</th>\n",
       "      <td>4618</td>\n",
       "      <td>618893370</td>\n",
       "    </tr>\n",
       "    <tr>\n",
       "      <th>3</th>\n",
       "      <td>8516</td>\n",
       "      <td>1441287851</td>\n",
       "    </tr>\n",
       "    <tr>\n",
       "      <th>4</th>\n",
       "      <td>3883</td>\n",
       "      <td>458435302</td>\n",
       "    </tr>\n",
       "    <tr>\n",
       "      <th>...</th>\n",
       "      <td>...</td>\n",
       "      <td>...</td>\n",
       "    </tr>\n",
       "    <tr>\n",
       "      <th>2995</th>\n",
       "      <td>3278</td>\n",
       "      <td>323042556</td>\n",
       "    </tr>\n",
       "    <tr>\n",
       "      <th>2996</th>\n",
       "      <td>3592</td>\n",
       "      <td>392351982</td>\n",
       "    </tr>\n",
       "    <tr>\n",
       "      <th>2997</th>\n",
       "      <td>6359</td>\n",
       "      <td>974026187</td>\n",
       "    </tr>\n",
       "    <tr>\n",
       "      <th>2998</th>\n",
       "      <td>10666</td>\n",
       "      <td>1897435808</td>\n",
       "    </tr>\n",
       "    <tr>\n",
       "      <th>2999</th>\n",
       "      <td>10637</td>\n",
       "      <td>1891581406</td>\n",
       "    </tr>\n",
       "  </tbody>\n",
       "</table>\n",
       "<p>3000 rows × 2 columns</p>\n",
       "</div>"
      ],
      "text/plain": [
       "      index   client_id\n",
       "0      3880   458110879\n",
       "1     10918  1951922656\n",
       "2      4618   618893370\n",
       "3      8516  1441287851\n",
       "4      3883   458435302\n",
       "...     ...         ...\n",
       "2995   3278   323042556\n",
       "2996   3592   392351982\n",
       "2997   6359   974026187\n",
       "2998  10666  1897435808\n",
       "2999  10637  1891581406\n",
       "\n",
       "[3000 rows x 2 columns]"
      ]
     },
     "execution_count": 98,
     "metadata": {},
     "output_type": "execute_result"
    }
   ],
   "source": [
    "customer_target_ids.reset_index()"
   ]
  },
  {
   "cell_type": "code",
   "execution_count": 80,
   "metadata": {},
   "outputs": [],
   "source": [
    "customer_target_ids.to_csv('/Users/braverun/codingbootcamp/customer_target_ids2.csv')"
   ]
  },
  {
   "cell_type": "code",
   "execution_count": 99,
   "metadata": {},
   "outputs": [
    {
     "data": {
      "text/plain": [
       "array([ 101.94202878,  129.4371183 ,  401.4669572 , ...,    8.91916942,\n",
       "       3947.16441164, 3869.15616066])"
      ]
     },
     "execution_count": 99,
     "metadata": {},
     "output_type": "execute_result"
    }
   ],
   "source": [
    "threek_customers.age.unique()\n",
    "\n",
    "threek_customers.average_balance.unique()"
   ]
  },
  {
   "cell_type": "code",
   "execution_count": 101,
   "metadata": {},
   "outputs": [
    {
     "name": "stdout",
     "output_type": "stream",
     "text": [
      "1510.8801964405134\n",
      "2173.9326587586215\n",
      "3284551.8025136734\n",
      "2012813.3677441857\n"
     ]
    }
   ],
   "source": [
    "column_sum_PROB = threek_customers['probability'].sum()\n",
    "print(column_sum_PROB)\n",
    "column_mean_AVGBAL = threek_customers['average_balance'].mean()\n",
    "print(column_mean_AVGBAL)\n",
    "ESales= column_sum_PROB * column_mean_AVGBAL\n",
    "print(ESales)\n",
    "ERevenue = ESales - (1271.7384347694876 * 1000)\n",
    "print(ERevenue)"
   ]
  }
 ],
 "metadata": {
  "kernelspec": {
   "display_name": "Python 3",
   "language": "python",
   "name": "python3"
  },
  "language_info": {
   "codemirror_mode": {
    "name": "ipython",
    "version": 3
   },
   "file_extension": ".py",
   "mimetype": "text/x-python",
   "name": "python",
   "nbconvert_exporter": "python",
   "pygments_lexer": "ipython3",
   "version": "3.11.6"
  }
 },
 "nbformat": 4,
 "nbformat_minor": 2
}
